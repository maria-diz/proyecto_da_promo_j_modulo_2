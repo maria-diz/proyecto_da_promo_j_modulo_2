{
 "cells": [
  {
   "cell_type": "markdown",
   "metadata": {},
   "source": [
    "1.4 Extracción de Tablas de los Premios Oscar con Beautiful Soup\n",
    "    \n",
    "    En esta fase, trabajarán con la biblioteca Beautiful Soup para extraer información relevante de las tablas de los premios Oscar desde 2000.\n",
    "La tabla la encontrarás en este link: https://en.wikipedia.org/wiki/Academy_Awards\n",
    "\n",
    "La información que deberás extraer es:\n",
    "        Fecha de la ceremonia.\n",
    "        Mejor película.\n",
    "        Mejor director.\n",
    "        Mejor actor.\n",
    "    Mejor actriz.\n",
    "\n",
    "NOTA: La información deberá ser almacenada en una lista de tuplas. Cada tupla corresponderá a una película. Siguiendo el siguiente ejemplo: [(1990, 'Driving Miss Daisy', 'O. Stone', \"D. Day-Lewis\",' J. Tandy' ), ...]"
   ]
  },
  {
   "cell_type": "code",
   "execution_count": 1,
   "metadata": {},
   "outputs": [
    {
     "name": "stdout",
     "output_type": "stream",
     "text": [
      "[(2000, 'Gladiator', 'Ang LeeCrouching Tiger, Hidden Dragon', 'Tom HanksCast Away', 'Julia RobertsErin Brockovich'), (2001, 'A Beautiful Mind', 'Ron HowardA Beautiful MindBaz LuhrmannMoulin Rouge!', 'Russell CroweA Beautiful Mind', 'Sissy SpacekIn the Bedroom'), (2002, 'Chicago', 'Steven SpielbergCatch Me If You Can and Minority Report', 'Jack NicholsonAbout SchmidtDaniel Day-LewisGangs of New York', 'Julianne MooreFar from Heaven'), (2003, 'The Lord of the Rings: The Return of the King', 'Peter JacksonThe Lord of the Rings: The Return of the King', 'Sean PennMystic River', 'Charlize TheronMonster'), (2004, 'Sideways', 'Martin ScorseseThe Aviator', 'Jamie FoxxRay', 'Hilary SwankMillion Dollar Baby'), (2005, 'Brokeback Mountain', 'Ang LeeBrokeback Mountain\\n', 'Philip Seymour HoffmanCapote', 'Reese WitherspoonWalk the Line'), (2006, 'Babel', 'Martin ScorseseThe Departed', 'Forest WhitakerThe Last King of Scotland', 'Helen MirrenThe Queen'), (2007, 'No Country for Old Men', 'Joel Coen and Ethan CoenNo Country for Old Men', 'Daniel Day-LewisThere Will Be Blood', 'Julie ChristieAway From Her'), (2008, 'Slumdog Millionaire', 'Danny BoyleSlumdog Millionaire\\n', 'Sean PennMilk', 'Anne HathawayRachel Getting Married'), (2009, 'The Hurt Locker', 'Kathryn BigelowThe Hurt Locker', 'Jeff BridgesCrazy Heart', 'Sandra BullockThe Blind SideMeryl StreepJulie & Julia'), (2010, 'The Social Network', 'David FincherThe Social Network', \"Colin FirthThe King's Speech\", 'Natalie PortmanBlack Swan'), (2011, 'The Artist', 'Michel HazanaviciusThe Artist', 'George ClooneyThe Descendants', 'Viola DavisThe Help'), (2012, 'Argo', 'Ben AffleckArgo', 'Daniel Day-LewisLincoln', 'Jessica ChastainZero Dark Thirty'), (2013, '12 Years a Slave', 'Alfonso CuarónGravity\\n', 'Matthew McConaugheyDallas Buyers Club', 'Cate BlanchettBlue Jasmine'), (2014, 'Boyhood', 'Richard LinklaterBoyhood', 'Eddie RedmayneThe Theory of Everything', 'Julianne MooreStill Alice'), (2015, 'The Revenant', 'Alejandro G. IñárrituThe Revenant', 'Leonardo DiCaprioThe Revenant', 'Brie LarsonRoom'), (2016, 'La La Land', 'Damien ChazelleLa La Land\\n', 'Casey AffleckManchester by the Sea', 'Natalie PortmanJackie'), (2017, 'Three Billboards Outside Ebbing, Missouri', 'Guillermo del ToroThe Shape of Water\\n', 'Gary OldmanDarkest Hour', 'Frances McDormandThree Billboards Outside Ebbing, Missouri'), (2018, 'Bohemian Rhapsody', 'Alfonso CuarónRoma\\n', 'Rami MalekBohemian Rhapsody', 'Glenn CloseThe Wife'), (2019, '1917', 'Sam Mendes1917', 'Joaquin PhoenixJoker', 'Renée ZellwegerJudy'), (2020, '', 'Chloé ZhaoNomadland\\n', \"Chadwick BosemanMa Rainey's Black Bottom\", 'Andra DayThe United States vs. Billie Holiday'), (2021, '', 'Jane CampionThe Power of the Dog\\n', 'Will SmithKing Richard', 'Nicole KidmanBeing the Ricardos'), (2022, '', 'Steven SpielbergThe Fabelmans', 'Austin ButlerElvis', 'Cate BlanchettTár'), (2023, '', '', '', ''), (2024, '', '', '', '')]\n"
     ]
    }
   ],
   "source": [
    "from bs4 import BeautifulSoup\n",
    "import requests\n",
    "import pandas as pd\n",
    "import re\n",
    "#URL = https://en.wikipedia.org/wiki/2000_in_film\n",
    "\n",
    "listado_ceremonias_oscar = []\n",
    "\n",
    "for anio in range(2000,2025):\n",
    "\n",
    "    url = f\"https://en.wikipedia.org/wiki/{anio}_in_film\" # URL Mejor pelicula\n",
    "    \n",
    "    # hacemos la llamada a la página de la que queremos sacar la info\n",
    "    resultado = requests.get(url)\n",
    "\n",
    "    if resultado.status_code != 200:\n",
    "        print(f\"La llamada ha producido el siguiente error: {resultado.reason}\")\n",
    "    else:\n",
    "\n",
    "        # creamos el objeto BeautifulSoup para poder extraer toda la informcion del contenido solicitado\n",
    "        sopa_peliculas = BeautifulSoup(resultado.content, 'html.parser')\n",
    "        \n",
    "        # creo variables que almacenaran los datos en formato string, por que es una tupla de strings\n",
    "        best_film = \"\"                    \n",
    "        best_director = \"\"\n",
    "        best_actor = \"\"\n",
    "        best_actress = \"\"\n",
    "\n",
    "        # busco todas las tablas con find_all (table)\n",
    "        tablas_peliculas= sopa_peliculas.find_all(\"table\", {\"class\": \"wikitable\"}) \n",
    "        # recorro todas las tablas en cada iteracion se va almacenando en la variable table cada tabla\n",
    "        for table in tablas_peliculas:\n",
    "            # busco los th que son las cabeceras\n",
    "            lista_th = table.find_all(\"th\") \n",
    "            # necesito comprobar si la tabla tiene cabeceras th,por que hay tablas en la web que no lo tienen y daria error\n",
    "            if len(lista_th) > 0:   \n",
    "                # compruebo si el elemento cero que es la cabecera th es igual titulo entonces estoy en mi tabla correcta de las 28\n",
    "                if lista_th[0].text == \"Category/Organization\": \n",
    "                    # de esta tabla, quiero los tr que son las filas, las busco y las almaceno en lista_tr\n",
    "                    lista_tr = table.find_all(\"tr\")\n",
    "                    # recorro la lista de tr que son las filas \n",
    "                    for tr in lista_tr:\n",
    "                        # para cada tr fila busco sus td columnas\n",
    "                        columns = tr.find_all(\"td\")\n",
    "                        # compruebo que ese tr fila tiene columnas comprobando la longitud de la lista que contiene todas las columnas\n",
    "                        if len(columns)>0:\n",
    "                            if columns[0].text == \"Best Film\":\n",
    "                                best_film = columns[1].text\n",
    "                            elif columns[0].text == \"Best Director\":\n",
    "                                best_director = columns[1].text\n",
    "                            elif columns[0].text == \"Best Actor\":\n",
    "                                best_actor = columns[1].text\n",
    "                            elif columns[0].text == \"Best Actress\":\n",
    "                                best_actress = columns[1].text\n",
    "                    \n",
    "        listado_ceremonias_oscar.append((anio, best_film, best_director, best_actor, best_actress))\n",
    "\n",
    "print(listado_ceremonias_oscar)\n",
    "\n",
    "#cabeceras = [\"Fecha de ceremonia\",\"Mejor Pelicula\",\"Mejor Director\",\"Mejor Actor\",\"Mejor Actriz\"]\n",
    "#df = pd.DataFrame(listado_ceremonias_oscar,columns=cabeceras)\n",
    "#print(df)\n",
    "\n"
   ]
  }
 ],
 "metadata": {
  "kernelspec": {
   "display_name": "base",
   "language": "python",
   "name": "python3"
  },
  "language_info": {
   "codemirror_mode": {
    "name": "ipython",
    "version": 3
   },
   "file_extension": ".py",
   "mimetype": "text/x-python",
   "name": "python",
   "nbconvert_exporter": "python",
   "pygments_lexer": "ipython3",
   "version": "3.11.7"
  }
 },
 "nbformat": 4,
 "nbformat_minor": 2
}
