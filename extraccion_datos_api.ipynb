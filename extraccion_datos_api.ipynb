{
 "cells": [
  {
   "cell_type": "code",
   "execution_count": 1,
   "metadata": {},
   "outputs": [],
   "source": [
    "\n",
    "from bs4 import BeautifulSoup                        # Importamos librerías para extracción y manipulación de datos \n",
    "import requests\n",
    "import pandas as pd\n",
    "import re\n",
    "\n",
    "pd.set_option('display.max_columns', None)  # Establece una opción de Pandas para mostrar todas las columnas de un DataFrame.\n",
    "pd.set_option('display.width', 1000)        # Ajusta el ancho de la consola para evitar truncamientos\n",
    "\n",
    "\n",
    "# Importar librerías para pausar la ejecución\n",
    "# -----------------------------------------------------------------------\n",
    "from time import sleep  # Sleep se utiliza para pausar la ejecución del programa por un número de segundos."
   ]
  },
  {
   "cell_type": "code",
   "execution_count": 3,
   "metadata": {},
   "outputs": [],
   "source": [
    "\n",
    "def llamar_api (year, genero):                       \n",
    "    \n",
    "    # Este método intenta llamar a la API Cinema Movies. \n",
    "    # Recibe como parámetro el género y el año en que desea buscar y devuelve una lista de tuplas con los datos de cada película.\n",
    "\n",
    "    #Construimos la URL dinámica con los parámetros recibidos:\n",
    "\n",
    "    url = f\"https://dev.adalab.es/api/cinema/movies?year={year}&genre={genero}\" \n",
    "\n",
    "    lista_peliculas = []\n",
    "\n",
    "    respuesta = requests.get(url)\n",
    "\n",
    "    sleep(3)\n",
    "\n",
    "    if respuesta.status_code != 200:\n",
    "        print(f\"Error al haber la llamada. Motivo: {respuesta.reason}\")\n",
    "        \n",
    "    else: \n",
    "        json_genero_year= respuesta.json()\n",
    "\n",
    "        # Recorro el diccionario que me devuelve la API hasta llegar al diccionario que almacena \n",
    "        # los títulos, ids, tipos y años de estreno. Lo itero y extraigo los datos de cada película. \n",
    "            \n",
    "        for pelicula in json_genero_year[\"results\"]:   \n",
    "                                       \n",
    "            type = pelicula[\"type\"]\n",
    "\n",
    "            if type == \"Movie\":     # Filtramos por película. Ignoramos series y otros formatos de vídeo.\n",
    "\n",
    "                title = pelicula[\"title\"]\n",
    "                year = pelicula[\"year\"]\n",
    "                genero = pelicula [\"genre\"]\n",
    "                id = pelicula[\"id\"]   \n",
    "                idOwner = pelicula[\"idOwner\"]\n",
    "\n",
    "                datos_pelicula = (type, title, year, genero, id, idOwner)           # En cada iteración, creo una tupla con los datos que añado a mi lista. \n",
    "                lista_peliculas.append(datos_pelicula)\n",
    "            \n",
    "            else:\n",
    "                pass        \n",
    "\n",
    "        return lista_peliculas \n",
    "    \n"
   ]
  },
  {
   "cell_type": "code",
   "execution_count": 4,
   "metadata": {},
   "outputs": [],
   "source": [
    "\n",
    "def todas_las_peliculas_del_anyo (year) :\n",
    "\n",
    "    # Devuelve las películas de todos los géneros del año pasado por parámetro.\n",
    "    # Devuelve una lista de tuplas con los datos de cada película.\n",
    "    # Además, nos será útil para obtener los identificadores de las películas.\n",
    "\n",
    "    generos = [\"Drama\", \"Comedy\", \"Action\", \"Fantasy\", \"Horror\", \"Mystery\", \"Romance\", \"Thriller\"]\n",
    "    lista_pelis_total= []\n",
    "\n",
    "    for genero in generos: \n",
    "        lista_pelis_genero = llamar_api(year, genero) \n",
    "        lista_pelis_total.extend(lista_pelis_genero)\n",
    "\n",
    "    return lista_pelis_total"
   ]
  },
  {
   "cell_type": "code",
   "execution_count": null,
   "metadata": {},
   "outputs": [],
   "source": [
    "\n",
    "def extractor_idowners (archivo_csv) :\n",
    "\n",
    "    # Esta función recibe un archivo .csv y devuelve una lista con todos los idowners que hay en el archivo.\n",
    "\n",
    "    df_pelis_API = pd.read_csv(archivo_csv) \n",
    "    lista_idowners = df_pelis_API['IdOwner'].tolist()\n",
    "    return lista_idowners\n"
   ]
  },
  {
   "cell_type": "code",
   "execution_count": 7,
   "metadata": {},
   "outputs": [],
   "source": [
    "def extraer_identificadores (lista):\n",
    "    \n",
    "    # Devuelve una lista con los identificadores de las películas que recibe por parámetro. \n",
    "    # Nos será útil para las funciones con Selenium.\n",
    "\n",
    "    lista_identificadores = []\n",
    "\n",
    "    for tupla in lista:\n",
    "        lista_identificadores.append(tupla[-1]) # En la última posición almacenamos el identificador idOwner.\n",
    "\n",
    "    return lista_identificadores"
   ]
  },
  {
   "cell_type": "code",
   "execution_count": 8,
   "metadata": {},
   "outputs": [],
   "source": [
    "def escribir_fichero (df, year_inicial, periodo):\n",
    "\n",
    "    # Recibe un dataframe, lo pasa a .csv y personaliza el nombre del fichero en función del periodo abarcado.\n",
    "\n",
    "    if periodo == 1:\n",
    "        nombre_archivo = f'peliculas_{year_inicial}.csv'\n",
    "        # df.to_csv(f'peliculas_{year_inicial}.csv') \n",
    "        df.to_csv(nombre_archivo) \n",
    "\n",
    "    else:\n",
    "        nombre_archivo = f'peliculas_{year_inicial}_{year_inicial+periodo-1}.csv'\n",
    "        # df.to_csv(f'peliculas_{year_inicial}_{year_inicial+periodo-1}.csv')   \n",
    "        df.to_csv(nombre_archivo)           \n",
    "\n",
    "    print(f\"Extracción completa. Puedes consultar tu archivo {nombre_archivo}\")"
   ]
  },
  {
   "cell_type": "code",
   "execution_count": 9,
   "metadata": {},
   "outputs": [],
   "source": [
    "\n",
    "def extraer_datos_peliculas_periodo (year_inicial, periodo = 1):   \n",
    "    \n",
    "    # Devuelve un dataframe con los datos de todas las películas del periodo pasado por parámetro.\n",
    "    # Escribe los datos del dataframe en un fichero. csv con título personalizado.\n",
    "    # Se recomienda que periodo no exceda de 5 años.\n",
    "\n",
    "    lista_periodo = []\n",
    "\n",
    "    if (periodo > 0) and (year_inicial >= 1900):                  \n",
    "\n",
    "        # Iteramos en los años del periodo marcado y extraemos los datos de todas las películas de ese año. \n",
    "\n",
    "        for year in range (year_inicial, year_inicial+periodo):\n",
    "            try:\n",
    "                print(f\"Explorando películas del año {year}\")\n",
    "                lista_pelis_anual = todas_las_peliculas_del_anyo(year)\n",
    "                lista_periodo.extend(lista_pelis_anual)\n",
    "            except:\n",
    "                print(f\"No ha sido posible obtener los datos. Recomendamos introducir periodos máximos de 5 años\")\n",
    "                return\n",
    "\n",
    "        encabezados = [\"Tipo\", \"Título\", \"Año\", \"Género\", \"Id_API\", \"IdOwner\"]\n",
    "        df = pd.DataFrame(lista_periodo, columns = encabezados) \n",
    "        escribir_fichero (df, year_inicial, periodo) # Escribimos los datos en fichero .csv\n",
    "        return df\n",
    "    \n",
    "    else:\n",
    "        print(\"Los parámetros introducidos no son válidos. \\nPor favor, revise el año inicial o el periodo\")  \n"
   ]
  },
  {
   "cell_type": "markdown",
   "metadata": {},
   "source": [
    "Probamos a extraer películas de un periodo de 15 años. Para que el servidor no se sature, lo hacemos en bloques de 5 años.\n",
    "\n",
    "- 1995- 1999.\n",
    "- 2000- 2004.\n",
    "- 2005-2014\n"
   ]
  },
  {
   "cell_type": "code",
   "execution_count": 10,
   "metadata": {},
   "outputs": [
    {
     "name": "stdout",
     "output_type": "stream",
     "text": [
      "Explorando películas del año 1995\n",
      "Explorando películas del año 1996\n",
      "Explorando películas del año 1997\n",
      "Explorando películas del año 1998\n",
      "Explorando películas del año 1999\n",
      "Extracción completa. Puedes consultar tu archivo peliculas_1995_1999.csv\n"
     ]
    }
   ],
   "source": [
    "df_pelis_1995_1999 = extraer_datos_peliculas_periodo(1995, 5)"
   ]
  },
  {
   "cell_type": "code",
   "execution_count": 11,
   "metadata": {},
   "outputs": [
    {
     "data": {
      "text/html": [
       "<div>\n",
       "<style scoped>\n",
       "    .dataframe tbody tr th:only-of-type {\n",
       "        vertical-align: middle;\n",
       "    }\n",
       "\n",
       "    .dataframe tbody tr th {\n",
       "        vertical-align: top;\n",
       "    }\n",
       "\n",
       "    .dataframe thead th {\n",
       "        text-align: right;\n",
       "    }\n",
       "</style>\n",
       "<table border=\"1\" class=\"dataframe\">\n",
       "  <thead>\n",
       "    <tr style=\"text-align: right;\">\n",
       "      <th></th>\n",
       "      <th>Tipo</th>\n",
       "      <th>Título</th>\n",
       "      <th>Año</th>\n",
       "      <th>Género</th>\n",
       "      <th>Id_API</th>\n",
       "      <th>IdOwner</th>\n",
       "    </tr>\n",
       "  </thead>\n",
       "  <tbody>\n",
       "    <tr>\n",
       "      <th>0</th>\n",
       "      <td>Movie</td>\n",
       "      <td>Nobat e Asheghi</td>\n",
       "      <td>1995</td>\n",
       "      <td>Drama</td>\n",
       "      <td>54935</td>\n",
       "      <td>tt0100267</td>\n",
       "    </tr>\n",
       "    <tr>\n",
       "      <th>1</th>\n",
       "      <td>Movie</td>\n",
       "      <td>¡Que vivan los crotos!</td>\n",
       "      <td>1995</td>\n",
       "      <td>Drama</td>\n",
       "      <td>54937</td>\n",
       "      <td>tt0102739</td>\n",
       "    </tr>\n",
       "    <tr>\n",
       "      <th>2</th>\n",
       "      <td>Movie</td>\n",
       "      <td>Paraíso Perdido</td>\n",
       "      <td>1995</td>\n",
       "      <td>Drama</td>\n",
       "      <td>54938</td>\n",
       "      <td>tt0105096</td>\n",
       "    </tr>\n",
       "    <tr>\n",
       "      <th>3</th>\n",
       "      <td>Movie</td>\n",
       "      <td>Running Wild</td>\n",
       "      <td>1995</td>\n",
       "      <td>Drama</td>\n",
       "      <td>54939</td>\n",
       "      <td>tt0105298</td>\n",
       "    </tr>\n",
       "    <tr>\n",
       "      <th>4</th>\n",
       "      <td>Movie</td>\n",
       "      <td>Las cosas del querer 2ª parte</td>\n",
       "      <td>1995</td>\n",
       "      <td>Drama</td>\n",
       "      <td>54941</td>\n",
       "      <td>tt0106616</td>\n",
       "    </tr>\n",
       "  </tbody>\n",
       "</table>\n",
       "</div>"
      ],
      "text/plain": [
       "    Tipo                         Título   Año Género  Id_API    IdOwner\n",
       "0  Movie                Nobat e Asheghi  1995  Drama   54935  tt0100267\n",
       "1  Movie         ¡Que vivan los crotos!  1995  Drama   54937  tt0102739\n",
       "2  Movie                Paraíso Perdido  1995  Drama   54938  tt0105096\n",
       "3  Movie                   Running Wild  1995  Drama   54939  tt0105298\n",
       "4  Movie  Las cosas del querer 2ª parte  1995  Drama   54941  tt0106616"
      ]
     },
     "execution_count": 11,
     "metadata": {},
     "output_type": "execute_result"
    }
   ],
   "source": [
    "df_pelis_1995_1999.head()"
   ]
  },
  {
   "cell_type": "code",
   "execution_count": 14,
   "metadata": {},
   "outputs": [
    {
     "name": "stdout",
     "output_type": "stream",
     "text": [
      "Explorando películas del año 2005\n",
      "Explorando películas del año 2006\n",
      "Explorando películas del año 2007\n",
      "Explorando películas del año 2008\n",
      "Explorando películas del año 2009\n",
      "Extracción completa. Puedes consultar tu archivo peliculas_2005_2009.csv\n"
     ]
    }
   ],
   "source": [
    "df_pelis_2005_2010 = extraer_datos_peliculas_periodo(2005, 5)"
   ]
  }
 ],
 "metadata": {
  "kernelspec": {
   "display_name": "base",
   "language": "python",
   "name": "python3"
  },
  "language_info": {
   "codemirror_mode": {
    "name": "ipython",
    "version": 3
   },
   "file_extension": ".py",
   "mimetype": "text/x-python",
   "name": "python",
   "nbconvert_exporter": "python",
   "pygments_lexer": "ipython3",
   "version": "3.12.4"
  }
 },
 "nbformat": 4,
 "nbformat_minor": 2
}
