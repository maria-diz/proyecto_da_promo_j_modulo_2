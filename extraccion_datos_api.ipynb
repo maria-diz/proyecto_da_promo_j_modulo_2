{
 "cells": [
  {
   "cell_type": "code",
   "execution_count": 2,
   "metadata": {},
   "outputs": [],
   "source": [
    "\n",
    "from bs4 import BeautifulSoup                        # Importamos librerías para extracción y manipulación de datos \n",
    "import requests\n",
    "import pandas as pd\n",
    "import re\n",
    "\n",
    "pd.set_option('display.max_columns', None)  # Establece una opción de Pandas para mostrar todas las columnas de un DataFrame.\n",
    "pd.set_option('display.width', 1000)        # Ajusta el ancho de la consola para evitar truncamientos\n",
    "\n",
    "\n",
    "# Importar librerías para pausar la ejecución\n",
    "# -----------------------------------------------------------------------\n",
    "from time import sleep  # Sleep se utiliza para pausar la ejecución del programa por un número de segundos."
   ]
  },
  {
   "cell_type": "code",
   "execution_count": 3,
   "metadata": {},
   "outputs": [],
   "source": [
    "\n",
    "def llamar_api (year, genero):                       \n",
    "    \n",
    "    # Este método intenta llamar a la API Cinema Movies. \n",
    "    # Recibe como parámetro el género y el año en que desea buscar y devuelve una lista de tuplas con los datos de cada película.\n",
    "\n",
    "    #Construimos la URL dinámica con los parámetros recibidos:\n",
    "\n",
    "    url = f\"https://dev.adalab.es/api/cinema/movies?year={year}&genre={genero}\" \n",
    "\n",
    "    lista_peliculas = []\n",
    "\n",
    "    respuesta = requests.get(url)\n",
    "\n",
    "    sleep(3)\n",
    "\n",
    "    if respuesta.status_code != 200:\n",
    "        print(f\"Error al haber la llamada. Motivo: {respuesta.reason}\")\n",
    "        \n",
    "    else: \n",
    "        json_genero_year= respuesta.json()\n",
    "\n",
    "        # Recorro el diccionario que me devuelve la API hasta llegar al diccionario que almacena \n",
    "        # los títulos, ids, tipos y años de estreno. Lo itero y extraigo los datos de cada película. \n",
    "            \n",
    "        for pelicula in json_genero_year[\"results\"]:   \n",
    "                                       \n",
    "            type = pelicula[\"type\"]\n",
    "\n",
    "            if type == \"Movie\":     # Filtramos por película. Ignoramos series y otros formatos de vídeo.\n",
    "\n",
    "                title = pelicula[\"title\"]\n",
    "                year = pelicula[\"year\"]\n",
    "                genero = pelicula [\"genre\"]\n",
    "                id = pelicula[\"id\"]   \n",
    "                idOwner = pelicula[\"idOwner\"]\n",
    "\n",
    "                datos_pelicula = (type, title, year, genero, id, idOwner)           # En cada iteración, creo una tupla con los datos que añado a mi lista. \n",
    "                lista_peliculas.append(datos_pelicula)\n",
    "            \n",
    "            else:\n",
    "                pass        \n",
    "\n",
    "        return lista_peliculas \n",
    "    \n"
   ]
  },
  {
   "cell_type": "code",
   "execution_count": 4,
   "metadata": {},
   "outputs": [],
   "source": [
    "\n",
    "def todas_las_peliculas_del_anyo (year) :\n",
    "\n",
    "    # Devuelve las películas de todos los géneros del año pasado por parámetro.\n",
    "    # Devuelve una lista de tuplas con los datos de cada película.\n",
    "    # Además, nos será útil para obtener los identificadores de las películas.\n",
    "\n",
    "    generos = [\"Drama\", \"Comedy\", \"Action\", \"Fantasy\", \"Horror\", \"Mystery\", \"Romance\", \"Thriller\"]\n",
    "    lista_pelis_total= []\n",
    "\n",
    "    for genero in generos: \n",
    "        lista_pelis_genero = llamar_api(year, genero) \n",
    "        lista_pelis_total.extend(lista_pelis_genero)\n",
    "\n",
    "    return lista_pelis_total"
   ]
  },
  {
   "cell_type": "code",
   "execution_count": 5,
   "metadata": {},
   "outputs": [],
   "source": [
    "\n",
    "def extractor_idowners (archivo_csv) :\n",
    "\n",
    "    # Esta función recibe un archivo .csv y devuelve una lista con todos los idowners que hay en el archivo.\n",
    "\n",
    "    df_pelis_API = pd.read_csv(archivo_csv) \n",
    "    lista_idowners = df_pelis_API['IdOwner'].tolist()\n",
    "    return lista_idowners\n"
   ]
  },
  {
   "cell_type": "code",
   "execution_count": 7,
   "metadata": {},
   "outputs": [],
   "source": [
    "def extraer_identificadores (lista):\n",
    "    \n",
    "    # Devuelve una lista con los identificadores de las películas que recibe por parámetro. \n",
    "    # Nos será útil para las funciones con Selenium.\n",
    "\n",
    "    lista_identificadores = []\n",
    "\n",
    "    for tupla in lista:\n",
    "        lista_identificadores.append(tupla[-1]) # En la última posición almacenamos el identificador idOwner.\n",
    "\n",
    "    return lista_identificadores"
   ]
  },
  {
   "cell_type": "code",
   "execution_count": 6,
   "metadata": {},
   "outputs": [],
   "source": [
    "def escribir_fichero (df, year_inicial, periodo):\n",
    "\n",
    "    # Recibe un dataframe, lo pasa a .csv y personaliza el nombre del fichero en función del periodo abarcado.\n",
    "\n",
    "    if periodo == 1:\n",
    "        nombre_archivo = f'peliculas_{year_inicial}.csv'\n",
    "        # df.to_csv(f'peliculas_{year_inicial}.csv') \n",
    "        df.to_csv(nombre_archivo) \n",
    "\n",
    "    else:\n",
    "        nombre_archivo = f'peliculas_{year_inicial}_{year_inicial+periodo-1}.csv'\n",
    "        # df.to_csv(f'peliculas_{year_inicial}_{year_inicial+periodo-1}.csv')   \n",
    "        df.to_csv(nombre_archivo)           \n",
    "\n",
    "    print(f\"Extracción completa. Puedes consultar tu archivo {nombre_archivo}\")"
   ]
  },
  {
   "cell_type": "code",
   "execution_count": 7,
   "metadata": {},
   "outputs": [],
   "source": [
    "\n",
    "def extraer_datos_peliculas_periodo (year_inicial, periodo = 1):   \n",
    "    \n",
    "    # Devuelve un dataframe con los datos de todas las películas del periodo pasado por parámetro.\n",
    "    # Escribe los datos del dataframe en un fichero. csv con título personalizado.\n",
    "    # Se recomienda que periodo no exceda de 5 años.\n",
    "\n",
    "    lista_periodo = []\n",
    "\n",
    "    if (periodo > 0) and (year_inicial >= 1900):                  \n",
    "\n",
    "        # Iteramos en los años del periodo marcado y extraemos los datos de todas las películas de ese año. \n",
    "\n",
    "        for year in range (year_inicial, year_inicial+periodo):\n",
    "            try:\n",
    "                print(f\"Explorando películas del año {year}\")\n",
    "                lista_pelis_anual = todas_las_peliculas_del_anyo(year)\n",
    "                lista_periodo.extend(lista_pelis_anual)\n",
    "            except:\n",
    "                print(f\"No ha sido posible obtener los datos. Recomendamos introducir periodos máximos de 5 años\")\n",
    "                return\n",
    "\n",
    "        encabezados = [\"Tipo\", \"Título\", \"Año\", \"Género\", \"Id_API\", \"IdOwner\"]\n",
    "        df = pd.DataFrame(lista_periodo, columns = encabezados) \n",
    "        escribir_fichero (df, year_inicial, periodo) # Escribimos los datos en fichero .csv\n",
    "        return df\n",
    "    \n",
    "    else:\n",
    "        print(\"Los parámetros introducidos no son válidos. \\nPor favor, revise el año inicial o el periodo\")  \n"
   ]
  },
  {
   "cell_type": "markdown",
   "metadata": {},
   "source": [
    "Probamos a extraer películas de un periodo de 15 años. Para que el servidor no se sature, lo hacemos en bloques de 5 años.\n",
    "\n",
    "- 1995- 1999.\n",
    "- 2000- 2004.\n",
    "- 2005-2014\n"
   ]
  },
  {
   "cell_type": "code",
   "execution_count": 10,
   "metadata": {},
   "outputs": [
    {
     "name": "stdout",
     "output_type": "stream",
     "text": [
      "Explorando películas del año 1995\n",
      "Explorando películas del año 1996\n",
      "Explorando películas del año 1997\n",
      "Explorando películas del año 1998\n",
      "Explorando películas del año 1999\n",
      "Extracción completa. Puedes consultar tu archivo peliculas_1995_1999.csv\n"
     ]
    }
   ],
   "source": [
    "df_pelis_1995_1999 = extraer_datos_peliculas_periodo(1995, 5)"
   ]
  },
  {
   "cell_type": "code",
   "execution_count": 11,
   "metadata": {},
   "outputs": [
    {
     "data": {
      "text/html": [
       "<div>\n",
       "<style scoped>\n",
       "    .dataframe tbody tr th:only-of-type {\n",
       "        vertical-align: middle;\n",
       "    }\n",
       "\n",
       "    .dataframe tbody tr th {\n",
       "        vertical-align: top;\n",
       "    }\n",
       "\n",
       "    .dataframe thead th {\n",
       "        text-align: right;\n",
       "    }\n",
       "</style>\n",
       "<table border=\"1\" class=\"dataframe\">\n",
       "  <thead>\n",
       "    <tr style=\"text-align: right;\">\n",
       "      <th></th>\n",
       "      <th>Tipo</th>\n",
       "      <th>Título</th>\n",
       "      <th>Año</th>\n",
       "      <th>Género</th>\n",
       "      <th>Id_API</th>\n",
       "      <th>IdOwner</th>\n",
       "    </tr>\n",
       "  </thead>\n",
       "  <tbody>\n",
       "    <tr>\n",
       "      <th>0</th>\n",
       "      <td>Movie</td>\n",
       "      <td>Nobat e Asheghi</td>\n",
       "      <td>1995</td>\n",
       "      <td>Drama</td>\n",
       "      <td>54935</td>\n",
       "      <td>tt0100267</td>\n",
       "    </tr>\n",
       "    <tr>\n",
       "      <th>1</th>\n",
       "      <td>Movie</td>\n",
       "      <td>¡Que vivan los crotos!</td>\n",
       "      <td>1995</td>\n",
       "      <td>Drama</td>\n",
       "      <td>54937</td>\n",
       "      <td>tt0102739</td>\n",
       "    </tr>\n",
       "    <tr>\n",
       "      <th>2</th>\n",
       "      <td>Movie</td>\n",
       "      <td>Paraíso Perdido</td>\n",
       "      <td>1995</td>\n",
       "      <td>Drama</td>\n",
       "      <td>54938</td>\n",
       "      <td>tt0105096</td>\n",
       "    </tr>\n",
       "    <tr>\n",
       "      <th>3</th>\n",
       "      <td>Movie</td>\n",
       "      <td>Running Wild</td>\n",
       "      <td>1995</td>\n",
       "      <td>Drama</td>\n",
       "      <td>54939</td>\n",
       "      <td>tt0105298</td>\n",
       "    </tr>\n",
       "    <tr>\n",
       "      <th>4</th>\n",
       "      <td>Movie</td>\n",
       "      <td>Las cosas del querer 2ª parte</td>\n",
       "      <td>1995</td>\n",
       "      <td>Drama</td>\n",
       "      <td>54941</td>\n",
       "      <td>tt0106616</td>\n",
       "    </tr>\n",
       "  </tbody>\n",
       "</table>\n",
       "</div>"
      ],
      "text/plain": [
       "    Tipo                         Título   Año Género  Id_API    IdOwner\n",
       "0  Movie                Nobat e Asheghi  1995  Drama   54935  tt0100267\n",
       "1  Movie         ¡Que vivan los crotos!  1995  Drama   54937  tt0102739\n",
       "2  Movie                Paraíso Perdido  1995  Drama   54938  tt0105096\n",
       "3  Movie                   Running Wild  1995  Drama   54939  tt0105298\n",
       "4  Movie  Las cosas del querer 2ª parte  1995  Drama   54941  tt0106616"
      ]
     },
     "execution_count": 11,
     "metadata": {},
     "output_type": "execute_result"
    }
   ],
   "source": [
    "df_pelis_1995_1999.head()"
   ]
  },
  {
   "cell_type": "code",
   "execution_count": 14,
   "metadata": {},
   "outputs": [
    {
     "name": "stdout",
     "output_type": "stream",
     "text": [
      "Explorando películas del año 2005\n",
      "Explorando películas del año 2006\n",
      "Explorando películas del año 2007\n",
      "Explorando películas del año 2008\n",
      "Explorando películas del año 2009\n",
      "Extracción completa. Puedes consultar tu archivo peliculas_2005_2009.csv\n"
     ]
    }
   ],
   "source": [
    "df_pelis_2005_2010 = extraer_datos_peliculas_periodo(2005, 5)"
   ]
  },
  {
   "cell_type": "code",
   "execution_count": 8,
   "metadata": {},
   "outputs": [],
   "source": [
    "# El .csv con todas las películas 1995-2009 es: \"total_peliculas_1995_2009.csv\"\n",
    "\n",
    "# Extraemos todos los idowners de las películas para poder llamar a nuestras funciones de Selenium.\n",
    "\n",
    "id_owners_1995_2009 = extractor_idowners(\"total_peliculas_1995_2009.csv\")"
   ]
  },
  {
   "cell_type": "code",
   "execution_count": 9,
   "metadata": {},
   "outputs": [
    {
     "name": "stdout",
     "output_type": "stream",
     "text": [
      "['tt0100267', 'tt0102739', 'tt0105096', 'tt0105298', 'tt0106616', 'tt0107070', 'tt0102952', 'tt0101616', 'tt0102532', 'tt0108576', 'tt0107537', 'tt0105881', 'tt0109178', 'tt0109033', 'tt0109536', 'tt0109400', 'tt0109746', 'tt0109905', 'tt0110252', 'tt0110826', 'tt0111359', 'tt0109546', 'tt0109415', 'tt0109723', 'tt0110604', 'tt0111574', 'tt0111464', 'tt0111244', 'tt0109028', 'tt0109642', 'tt0110217', 'tt0111151', 'tt0111269', 'tt0109363', 'tt0109489', 'tt0095102', 'tt0109034', 'tt0109532', 'tt0099840', 'tt0103655', 'tt0106322', 'tt0106621', 'tt0106421', 'tt0107025', 'tt0109239', 'tt0110028', 'tt0110294', 'tt0110910', 'tt0110463', 'tt0111678', 'tt0111129', 'tt0112526', 'tt0112803', 'tt0113035', 'tt0112946', 'tt0112923', 'tt0112908', 'tt0113981', 'tt0114485', 'tt0111305', 'tt0112632', 'tt0113643', 'tt0113591', 'tt0113682', 'tt0114170', 'tt0111645', 'tt0113443', 'tt0113314', 'tt0112675', 'tt0113033', 'tt0113489', 'tt0109827', 'tt0110125', 'tt0102267', 'tt0108233', 'tt0109136', 'tt0110331', 'tt0111416', 'tt0112974', 'tt0111632', 'tt0108294', 'tt0112810', 'tt0113513', 'tt0113162', 'tt0113646', 'tt0113031', 'tt0112629', 'tt0112308', 'tt0113067', 'tt0115447', 'tt0115647', 'tt0115864', 'tt0112856', 'tt0116960', 'tt0115696', 'tt0117264', 'tt0118604', 'tt0116048', 'tt0115813', 'tt0115584', 'tt0116611', 'tt0117041', 'tt0116922', 'tt0118713', 'tt0118886', 'tt0114502', 'tt0115865', 'tt0115524', 'tt0116914', 'tt0116193', 'tt0116826', 'tt0116577', 'tt0112904', 'tt0108098', 'tt0110404', 'tt0112784', 'tt0115005', 'tt0115770', 'tt0116202', 'tt0116675', 'tt0116753', 'tt0095469', 'tt0112901', 'tt0118301', 'tt0118635', 'tt0118863', 'tt0118798', 'tt0118978', 'tt0112340', 'tt0116737', 'tt0118966', 'tt0118782', 'tt0118569', 'tt0118956', 'tt0118869', 'tt0118736', 'tt0116943', 'tt0115412', 'tt0116727', 'tt0118621', 'tt0118929', 'tt0118998', 'tt0118951', 'tt0117611', 'tt0119240', 'tt0119889', 'tt0119891', 'tt0119196', 'tt0119099', 'tt0118150', 'tt0119219', 'tt0119416', 'tt0119522', 'tt0119594', 'tt0119559', 'tt0118939', 'tt0118834', 'tt0119149', 'tt0117593', 'tt0118748', 'tt0118744', 'tt0118732', 'tt0118584', 'tt0111068', 'tt0113747', 'tt0114758', 'tt0114890', 'tt0116408', 'tt0116703', 'tt0115675', 'tt0119028', 'tt0110445', 'tt0112444', 'tt0118994', 'tt0118665', 'tt0117148', 'tt0119936', 'tt0119413', 'tt0119163', 'tt0118853', 'tt0120784', 'tt0120435', 'tt0120458', 'tt0120915', 'tt0118664', 'tt0119751', 'tt0120363', 'tt0120910', 'tt0120601', 'tt0120604', 'tt0120616', 'tt0119277', 'tt0120361', 'tt0121152', 'tt0120500', 'tt0120620', 'tt0123078', 'tt0120663', 'tt0120662', 'tt0120689', 'tt0120798', 'tt0120834', 'tt0120907', 'tt0119079', 'tt0119740', 'tt0122541', 'tt0117617', 'tt0119705', 'tt0119208', 'tt0119786', 'tt0120416', 'tt0102362', 'tt0113092', 'tt0113086', 'tt0116748', 'tt0116391', 'tt0115937', 'tt0118694', 'tt0119495', 'tt0119806', 'tt0120202', 'tt0123003', 'tt0120263', 'tt0123055', 'tt0120630', 'tt0116628', 'tt0119273', 'tt0120755', 'tt0120913', 'tt0120673', 'tt0120903', 'tt0120917', 'tt0130623', 'tt0132910', 'tt0131704', 'tt0138749', 'tt0144964', 'tt0144574', 'tt0146984', 'tt0128158', 'tt0134084', 'tt0134983', 'tt0134847', 'tt0137115', 'tt0144084', 'tt0148120', 'tt0156020', 'tt0120753', 'tt0127349', 'tt0160495', 'tt0160644', 'tt0160289', 'tt0161081', 'tt0162711', 'tt0113026', 'tt0119866', 'tt0122459', 'tt0119966', 'tt0120467', 'tt0122161', 'tt0120117', 'tt0120698', 'tt0079644', 'tt0118578', 'tt0119004', 'tt0118589', 'tt0120624', 'tt0120605', 'tt0120807', 'tt0120737', 'tt0035423', 'tt0089067', 'tt0118652', 'tt0123581', 'tt0124889', 'tt0125022', 'tt0126029', 'tt0114447', 'tt0128165', 'tt0132245', 'tt0133152', 'tt0141120', 'tt0146316', 'tt0150021', 'tt0120166', 'tt0133063', 'tt0148415', 'tt0164961', 'tt0166276', 'tt0120681', 'tt0153533', 'tt0162030', 'tt0166110', 'tt0171339', 'tt0157583', 'tt0160399', 'tt0163596', 'tt0166924', 'tt0179735', 'tt0182000', 'tt0124359', 'tt0141907', 'tt0160480', 'tt0114722', 'tt0126899', 'tt0139654', 'tt0096056', 'tt0118926', 'tt0119980', 'tt0120679', 'tt0130255', 'tt0149253', 'tt0154187', 'tt0120912', 'tt0120870', 'tt0128216', 'tt0156376', 'tt0157472', 'tt0160905', 'tt0160240', 'tt0121765', 'tt0120804', 'tt0145487', 'tt0151299', 'tt0133240', 'tt0146063', 'tt0165832', 'tt0167261', 'tt0175203', 'tt0210223', 'tt0187738', 'tt0201844', 'tt0220506', 'tt0128154', 'tt0181689', 'tt0184387', 'tt0191074', 'tt0220607', 'tt0235737', 'tt0241453', 'tt0139479', 'tt0160239', 'tt0164810', 'tt0167116', 'tt0179098', 'tt0181430', 'tt0160184', 'tt0164184', 'tt0164003', 'tt0119727', 'tt0140806', 'tt0157191', 'tt0159365', 'tt0167260', 'tt0169579', 'tt0191133', 'tt0191211', 'tt0117461', 'tt0120607', 'tt0135991', 'tt0138524', 'tt0142634', 'tt0156100', 'tt0165982', 'tt0172156', 'tt0181852', 'tt0203536', 'tt0218326', 'tt0232537', 'tt0217802', 'tt0237622', 'tt0245803', 'tt0263265', 'tt0222812', 'tt0248110', 'tt0251736', 'tt0255623', 'tt0258534', 'tt0199626', 'tt0244379', 'tt0262156', 'tt0264395', 'tt0274193', 'tt0195119', 'tt0214275', 'tt0228301', 'tt0242888', 'tt0160870', 'tt0201934', 'tt0215244', 'tt0243652', 'tt0092960', 'tt0146803', 'tt0159290', 'tt0168064', 'tt0170508', 'tt0186785', 'tt0196811', 'tt0203912', 'tt0211070', 'tt0108549', 'tt0122247', 'tt0167456', 'tt0169084', 'tt0177882', 'tt0187279', 'tt0198013', 'tt0220322', 'tt0131597', 'tt0167190', 'tt0235853', 'tt0239235', 'tt0205513', 'tt0222790', 'tt0264410', 'tt0286857', 'tt0293708', 'tt0298148', 'tt0202360', 'tt0204313', 'tt0286669', 'tt0287733', 'tt0287795', 'tt0289933', 'tt0305632', 'tt0304141', 'tt0206771', 'tt0212712', 'tt0224025', 'tt0229792', 'tt0218400', 'tt0235219', 'tt0246404', 'tt0118141', 'tt0121164', 'tt0146272', 'tt0160706', 'tt0187838', 'tt0195551', 'tt0196155', 'tt0195565', 'tt0088751', 'tt0159790', 'tt0179803', 'tt0216584', 'tt0216746', 'tt0222167', 'tt0226851', 'tt0121766', 'tt0120667', 'tt0228906', 'tt0244306', 'tt0290747', 'tt0295590', 'tt0301265', 'tt0234084', 'tt0243462', 'tt0312004', 'tt0327660', 'tt0257516', 'tt0264323', 'tt0267506', 'tt0274509', 'tt0153517', 'tt0204322', 'tt0220605', 'tt0304356', 'tt0324107', 'tt0330373', 'tt0337656', 'tt0342882', 'tt0285682', 'tt0287927', 'tt0294870', 'tt0295605', 'tt0160261', 'tt0219171', 'tt0227189', 'tt0261759', 'tt0110476', 'tt0136517', 'tt0166871', 'tt0206634', 'tt0260042', 'tt0197633', 'tt0204250', 'tt0244521', 'tt0270417', 'tt0275258', 'tt0280000', 'tt0284363', 'tt0317919', 'tt0340084', 'tt0337609', 'tt0339382', 'tt0348150', 'tt0144280', 'tt0308353', 'tt0344854', 'tt0354899', 'tt0361852', 'tt0367567', 'tt0279688', 'tt0287072', 'tt0320626', 'tt0328899', 'tt0331334', 'tt0296604', 'tt0349467', 'tt0353357', 'tt0362225', 'tt0291569', 'tt0302545', 'tt0314186', 'tt0323120', 'tt0337564', 'tt0353667', 'tt0259822', 'tt0325011', 'tt0327389', 'tt0196186', 'tt0206806', 'tt0211933', 'tt0213985', 'tt0218140', 'tt0242029', 'tt0243649', 'tt0283503', 'tt0287075', 'tt0119231', 'tt0227671', 'tt0275236', 'tt0293564', 'tt0294654', 'tt0300007', 'tt0329354', 'tt0348062', 'tt0259324', 'tt0330972', 'tt0337978', 'tt0357545', 'tt0372873', 'tt0373889', 'tt0382932', 'tt0385752', 'tt0396555', 'tt0397044', 'tt0317401', 'tt0361724', 'tt0372005', 'tt0337899', 'tt0374563', 'tt0389328', 'tt0391095', 'tt0411061', 'tt0415127', 'tt0075959', 'tt0314589', 'tt0338216', 'tt0354578', 'tt0362209', 'tt0368151', 'tt0370433', 'tt0373263', 'tt0198794', 'tt0292963', 'tt0117743', 'tt0119970', 'tt0177636', 'tt0200465', 'tt0211946', 'tt0313088', 'tt0317249', 'tt0319115', 'tt0115686', 'tt0340020', 'tt0361500', 'tt0363780', 'tt0369436', 'tt0036177', 'tt0357668', 'tt0364970', 'tt0365675', 'tt0367882', 'tt0371746', 'tt0373051', 'tt0400426', 'tt0373028', 'tt0380249', 'tt0396707', 'tt0410377', 'tt0411477', 'tt0416236', 'tt0420238', 'tt0369424', 'tt0406759', 'tt0429658', 'tt0439536', 'tt0443648', 'tt0443435', 'tt0443701', 'tt0409345', 'tt0414426', 'tt0447927', 'tt0449487', 'tt0379865', 'tt0399976', 'tt0403085', 'tt0143558', 'tt0153140', 'tt0205380', 'tt0254832', 'tt0311698', 'tt0327597', 'tt0344074', 'tt0346631', 'tt0361748', 'tt0362478', 'tt0288190', 'tt0304876', 'tt0312958', 'tt0353765', 'tt0365873', 'tt0375568', 'tt0365929', 'tt0373340', 'tt0409459', 'tt0417741', 'tt0421237', 'tt0293354', 'tt0374853', 'tt0380510', 'tt0386117', 'tt0289146', 'tt0353665', 'tt0368563', 'tt0425141', 'tt0431670', 'tt0433362', 'tt0436154', 'tt0450336', 'tt0121569', 'tt0381940', 'tt0405022', 'tt0403702', 'tt0407852', 'tt0435716', 'tt0437065', 'tt0437550', 'tt0438894', 'tt0448182', 'tt0408060']\n"
     ]
    }
   ],
   "source": [
    "print(id_owners_1995_2009)"
   ]
  }
 ],
 "metadata": {
  "kernelspec": {
   "display_name": "base",
   "language": "python",
   "name": "python3"
  },
  "language_info": {
   "codemirror_mode": {
    "name": "ipython",
    "version": 3
   },
   "file_extension": ".py",
   "mimetype": "text/x-python",
   "name": "python",
   "nbconvert_exporter": "python",
   "pygments_lexer": "ipython3",
   "version": "3.12.4"
  }
 },
 "nbformat": 4,
 "nbformat_minor": 2
}
