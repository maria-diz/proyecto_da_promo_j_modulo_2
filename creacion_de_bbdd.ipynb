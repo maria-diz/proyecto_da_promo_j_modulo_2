{
 "cells": [
  {
   "cell_type": "code",
   "execution_count": 64,
   "metadata": {},
   "outputs": [
    {
     "name": "stdout",
     "output_type": "stream",
     "text": [
      "Requirement already satisfied: mysql-connector in c:\\users\\anabo\\appdata\\local\\programs\\python\\python312\\lib\\site-packages (2.2.9)\n",
      "Note: you may need to restart the kernel to use updated packages.\n"
     ]
    },
    {
     "name": "stderr",
     "output_type": "stream",
     "text": [
      "\n",
      "[notice] A new release of pip is available: 24.0 -> 24.2\n",
      "[notice] To update, run: python.exe -m pip install --upgrade pip\n"
     ]
    }
   ],
   "source": [
    "pip install mysql-connector"
   ]
  },
  {
   "cell_type": "code",
   "execution_count": 65,
   "metadata": {},
   "outputs": [
    {
     "name": "stdout",
     "output_type": "stream",
     "text": [
      "Requirement already satisfied: mysql-connector-python in c:\\users\\anabo\\appdata\\local\\programs\\python\\python312\\lib\\site-packages (9.0.0)\n",
      "Note: you may need to restart the kernel to use updated packages.\n"
     ]
    },
    {
     "name": "stderr",
     "output_type": "stream",
     "text": [
      "\n",
      "[notice] A new release of pip is available: 24.0 -> 24.2\n",
      "[notice] To update, run: python.exe -m pip install --upgrade pip\n"
     ]
    }
   ],
   "source": [
    "pip install mysql-connector-python"
   ]
  },
  {
   "cell_type": "markdown",
   "metadata": {},
   "source": [
    "### 0. Importamos librerías y ajustamos configuraciones."
   ]
  },
  {
   "cell_type": "code",
   "execution_count": 66,
   "metadata": {},
   "outputs": [],
   "source": [
    "# Importar librería para la conexión con MySQL\n",
    "# -----------------------------------------------------------------------\n",
    "import mysql.connector\n",
    "from mysql.connector import errorcode\n",
    "\n",
    "\n",
    "# Importar librerías para manipulación y análisis de datos\n",
    "# -----------------------------------------------------------------------\n",
    "import pandas as pd\n",
    "import numpy as np\n",
    "\n",
    "# Importar otras librerías para manipulación y análisis de datos\n",
    "# -----------------------------------------------------------------------\n",
    "\n",
    "import csv\n",
    "\n",
    "\n",
    "# Configuraciones\n",
    "# -----------------------------------------------------------------------\n",
    "\n",
    "pd.set_option('display.max_columns', None) # Muestra todas las columnas de los DataFrame\n",
    "pd.set_option('display.width', 1000) # Ajusta el ancho de la consola para evitar truncamientos\n"
   ]
  },
  {
   "cell_type": "markdown",
   "metadata": {},
   "source": [
    "### 1. Creamos la conexión con SQL"
   ]
  },
  {
   "cell_type": "code",
   "execution_count": 67,
   "metadata": {},
   "outputs": [],
   "source": [
    "# Tratamos de crear la conexión con SQL. Usamos try/except para manejar los posibles errores.\n",
    "\n",
    "config = {\n",
    "  'user': 'root',\n",
    "  'password': 'AlumnaAdalab',\n",
    "  'host': '127.0.0.1',\n",
    "  'raise_on_warnings': True\n",
    "}\n",
    "\n",
    "try:\n",
    "  cnx = mysql.connector.connect(**config)\n",
    "\n",
    "except mysql.connector.Error as err:\n",
    "\n",
    "  if err.errno == errorcode.ER_ACCESS_DENIED_ERROR:\n",
    "    print(\"Hay un problema con tu nombre de usuario o contraseña\")\n",
    "  \n",
    "  elif err.errno == errorcode.ER_BAD_DB_ERROR:\n",
    "    print(\"La base de datos no existe\")\n",
    "  \n",
    "  else:\n",
    "    print(err)"
   ]
  },
  {
   "cell_type": "markdown",
   "metadata": {},
   "source": [
    "### 2. Creamos nuestra base de datos: BD_cinemextract"
   ]
  },
  {
   "cell_type": "code",
   "execution_count": 68,
   "metadata": {},
   "outputs": [
    {
     "name": "stdout",
     "output_type": "stream",
     "text": [
      "CMySQLCursor: CREATE DATABASE BD_cinemextract\n"
     ]
    }
   ],
   "source": [
    "# crear un cursor para poder ejecutar nuestras consultas \n",
    "\n",
    "mycursor = cnx.cursor()\n",
    "\n",
    "# crear nuestra base de datos (schema)\n",
    "\n",
    "try:\n",
    "    mycursor.execute(\"CREATE DATABASE BD_cinemextract\")\n",
    "    print(mycursor)\n",
    "\n",
    "except mysql.connector.Error as err:\n",
    "    print(err)\n",
    "    print(\"Error Code:\", err.errno)\n",
    "    print(\"SQLSTATE\", err.sqlstate)\n",
    "    print(\"Message\", err.msg)\n",
    "\n"
   ]
  },
  {
   "cell_type": "markdown",
   "metadata": {},
   "source": [
    "### 3. Nos conectamos con la base de datos BD_cinemextract."
   ]
  },
  {
   "cell_type": "code",
   "execution_count": 69,
   "metadata": {},
   "outputs": [],
   "source": [
    "\n",
    "def establecer_conexion(database):\n",
    "\n",
    "    # Esta función conecta con la base de datos que se le indica por parámetro y devuelve el conector creado\n",
    "\n",
    "    config = {\n",
    "    'user': 'root',\n",
    "    'password': 'AlumnaAdalab',\n",
    "    'host': '127.0.0.1',\n",
    "    'database' : f'{database}',\n",
    "    'raise_on_warnings': True\n",
    "    }\n",
    "\n",
    "    try:\n",
    "        cnx = mysql.connector.connect(**config)\n",
    "        print(f\"Conexión establecida con {database}\")\n",
    "\n",
    "    except mysql.connector.Error as err:\n",
    "\n",
    "        if err.errno == errorcode.ER_ACCESS_DENIED_ERROR:\n",
    "            print(\"Hay un problema con tu nombre de usuario o contraseña\")\n",
    "        \n",
    "        elif err.errno == errorcode.ER_BAD_DB_ERROR:\n",
    "            print(\"La base de datos no existe\")\n",
    "        \n",
    "        else:\n",
    "            print(err)\n",
    "    \n",
    "    return cnx\n",
    "\n"
   ]
  },
  {
   "cell_type": "markdown",
   "metadata": {},
   "source": [
    "### Creamos las 4 tablas de nuestra base de datos.\n",
    "\n",
    "### Empezamos con peliculas_api..."
   ]
  },
  {
   "cell_type": "code",
   "execution_count": 70,
   "metadata": {},
   "outputs": [
    {
     "name": "stdout",
     "output_type": "stream",
     "text": [
      "Conexión establecida con BD_cinemextract\n",
      "CMySQLCursor: CREATE TABLE peliculas_api (\n",
      "\n",
      "    indice..\n"
     ]
    }
   ],
   "source": [
    "\n",
    "cnx = establecer_conexion('BD_cinemextract')\n",
    "\n",
    "query_tabla_api = \"\"\"CREATE TABLE peliculas_api (\n",
    "\n",
    "    indice INT,\t   \n",
    "    tipo VARCHAR(20), \n",
    "    titulo VARCHAR(250), \n",
    "    anyo INT, \n",
    "    genero VARCHAR(50),\t \n",
    "    id_api INT PRIMARY KEY,\t\n",
    "    id_owner VARCHAR(50))\"\"\" \n",
    "\n",
    "mycursor = cnx.cursor()\n",
    "\n",
    "\n",
    "try:\n",
    "    mycursor.execute(query_tabla_api)\n",
    "    print(mycursor)\n",
    "except mysql.connector.Error as err:\n",
    "    print(err)\n",
    "    print(\"Error Code:\", err.errno)\n",
    "    print(\"SQLSTATE\", err.sqlstate)\n",
    "    print(\"Message\", err.msg)\n",
    "\n",
    "                                    "
   ]
  },
  {
   "cell_type": "markdown",
   "metadata": {},
   "source": [
    "### Seguimos con la tabla peliculas_imdb"
   ]
  },
  {
   "cell_type": "code",
   "execution_count": 71,
   "metadata": {},
   "outputs": [
    {
     "name": "stdout",
     "output_type": "stream",
     "text": [
      "CMySQLCursor: CREATE TABLE peliculas_imdb (\n",
      "\n",
      "    titul..\n"
     ]
    }
   ],
   "source": [
    "query_tabla_imdb = \"\"\"CREATE TABLE peliculas_imdb (\n",
    "\n",
    "    titulo VARCHAR(250),\n",
    "    puntuacion_imdb FLOAT DEFAULT NULL,\n",
    "    direccion VARCHAR(200) DEFAULT NULL,\n",
    "    guionistas VARCHAR(250) DEFAULT NULL,\n",
    "    argumento TEXT DEFAULT NULL,\n",
    "    id_owner VARCHAR(50) PRIMARY KEY)\"\"\" \n",
    "\n",
    "mycursor = cnx.cursor()\n",
    "\n",
    "try:\n",
    "    mycursor.execute(query_tabla_imdb)\n",
    "    print(mycursor)\n",
    "except mysql.connector.Error as err:\n",
    "    print(err)\n",
    "    print(\"Error Code:\", err.errno)\n",
    "    print(\"SQLSTATE\", err.sqlstate)\n",
    "    print(\"Message\", err.msg)"
   ]
  },
  {
   "cell_type": "markdown",
   "metadata": {},
   "source": [
    "### Continuamos con la tabla actores\n"
   ]
  },
  {
   "cell_type": "code",
   "execution_count": 72,
   "metadata": {},
   "outputs": [
    {
     "name": "stdout",
     "output_type": "stream",
     "text": [
      "CMySQLCursor: CREATE TABLE actores (\n",
      "\n",
      "    id_actor INT..\n"
     ]
    }
   ],
   "source": [
    "\n",
    "query_tabla_api = \"\"\"CREATE TABLE actores (\n",
    "\n",
    "    id_actor INT NOT NULL AUTO_INCREMENT PRIMARY KEY,\t\n",
    "    nombre VARCHAR(200), \n",
    "    anyo INT,\n",
    "    roles VARCHAR (200), \n",
    "    peliculas TEXT,\n",
    "    premios TEXT)\"\"\" \n",
    "\n",
    "mycursor = cnx.cursor()\n",
    "\n",
    "try:\n",
    "    mycursor.execute(query_tabla_api)\n",
    "    print(mycursor)\n",
    "    cnx.commit()\n",
    "except mysql.connector.Error as err:\n",
    "    print(err)\n",
    "    print(\"Error Code:\", err.errno)\n",
    "    print(\"SQLSTATE\", err.sqlstate)\n",
    "    print(\"Message\", err.msg)"
   ]
  },
  {
   "cell_type": "markdown",
   "metadata": {},
   "source": [
    "### Y creamos la tabla de los premios oscar.\n"
   ]
  },
  {
   "cell_type": "code",
   "execution_count": 73,
   "metadata": {},
   "outputs": [
    {
     "name": "stdout",
     "output_type": "stream",
     "text": [
      "Conexión establecida con BD_cinemextract\n",
      "CMySQLCursor: CREATE TABLE premios_oscar (\n",
      "\n",
      "    anyo_c..\n"
     ]
    }
   ],
   "source": [
    "cnx = establecer_conexion('BD_cinemextract')\n",
    "\n",
    "query_tabla_oscar = \"\"\"CREATE TABLE premios_oscar (\n",
    "\n",
    "    anyo_ceremonia INT PRIMARY KEY,\t\n",
    "    mejor_pelicula TEXT, \n",
    "    mejor_director VARCHAR(250),\n",
    "    mejor_actor VARCHAR(250),\n",
    "    mejor_actriz VARCHAR(250))\"\"\" \n",
    "\n",
    "\n",
    "mycursor = cnx.cursor()\n",
    "\n",
    "\n",
    "try:\n",
    "    mycursor.execute(query_tabla_oscar)\n",
    "    print(mycursor)\n",
    "except mysql.connector.Error as err:\n",
    "    print(err)\n",
    "    print(\"Error Code:\", err.errno)\n",
    "    print(\"SQLSTATE\", err.sqlstate)\n",
    "    print(\"Message\", err.msg)"
   ]
  },
  {
   "cell_type": "markdown",
   "metadata": {},
   "source": [
    "### Ahora toca insertar los datos en las tablas. Empezamos por peliculas_api"
   ]
  },
  {
   "cell_type": "code",
   "execution_count": 74,
   "metadata": {},
   "outputs": [
    {
     "name": "stdout",
     "output_type": "stream",
     "text": [
      "Conexión establecida con BD_cinemextract\n",
      "652 registro/s insertado/s\n"
     ]
    }
   ],
   "source": [
    "# Establecemos conexión con la base de datos.\n",
    "cnx = establecer_conexion('BD_cinemextract')\n",
    "\n",
    "# Creamos un cursor para ejecutar los queries\n",
    "mycursor = cnx.cursor()\n",
    "\n",
    "# Creamos un dataframe a partir del archivo CSV con todos los datos extraídos de la API\n",
    "df = pd.read_csv('peliculas_api_desde_1995_a_2009.csv')\n",
    "\n",
    "# Creamos la query (sql) y extraemos los valores del .csv\n",
    "\n",
    "sql = \"INSERT INTO peliculas_api(indice, tipo, titulo, anyo, genero, id_api, id_owner)  VALUES (%s, %s, %s, %s, %s, %s, %s)\"\n",
    "val = df.values.tolist()   # Convierto los datos del DataFrame en una lista de listas, donde cada value equivale a la informacion de una fila de la tabla\n",
    "\n",
    "try:\n",
    "  # Insertar los datos en la base de datos\n",
    "  mycursor.executemany(sql, val)\n",
    "  cnx.commit() \n",
    "  print(mycursor.rowcount, \"registro/s insertado/s\")\n",
    "\n",
    "except mysql.connector.Error as err:\n",
    "  print(err)\n",
    "  print(\"Error Code:\", err.errno)\n",
    "  print(\"SQLSTATE\", err.sqlstate)\n",
    "  print(\"Message\", err.msg)\n",
    "\n",
    "mycursor.close()    # Cerrar el cursosr\n",
    "cnx.close()         # Cerrar la conexión"
   ]
  },
  {
   "cell_type": "markdown",
   "metadata": {},
   "source": [
    "### Llenamos la tabla premios_oscar"
   ]
  },
  {
   "cell_type": "code",
   "execution_count": 75,
   "metadata": {},
   "outputs": [
    {
     "name": "stdout",
     "output_type": "stream",
     "text": [
      "Conexión establecida con BD_cinemextract\n",
      "25 registro/s insertado/s\n"
     ]
    }
   ],
   "source": [
    "# Establecemos conexión con la base de datos.\n",
    "cnx = establecer_conexion('BD_cinemextract')\n",
    "    \n",
    "# Creamos un cursor para ejecutar los queries\n",
    "mycursor = cnx.cursor()\n",
    "\n",
    "# Llenamos las tablas a partir del archivo .csv\n",
    "\n",
    "df = pd.read_csv('tabla_oscar_archivo.csv')\n",
    "\n",
    "# Creamos las variables sql y val, que serán los parámetros que recibirá nuestro cursor para insertar múltiples registros\n",
    "\n",
    "sql = \"INSERT INTO premios_oscar (anyo_ceremonia, mejor_pelicula, mejor_director, mejor_actor, mejor_actriz) VALUES (%s, %s, %s, %s, %s)\"\n",
    "val = df.values.tolist()   # Convierto el DataFrame a lista de listas, porque aqui no se pueden indicar a \"cholon\" todos los datos uno a uno.\n",
    "                          # el .values devuelve las tuplas y .tolist lo pasa a una lista, por lo que ya tengo una lista de tuplas\n",
    "\n",
    "try:\n",
    "  # Insertar los datos en la base de datos\n",
    "  mycursor.executemany(sql, val)\n",
    "  cnx.commit() # Guardar los cambios y cerrar la conexión\n",
    "  print(mycursor.rowcount, \"registro/s insertado/s\")\n",
    "\n",
    "except mysql.connector.Error as err:\n",
    "  print(err)\n",
    "  print(\"Error Code:\", err.errno)\n",
    "  print(\"SQLSTATE\", err.sqlstate)\n",
    "  print(\"Message\", err.msg)"
   ]
  },
  {
   "cell_type": "markdown",
   "metadata": {},
   "source": [
    "### Llenamos la tabla de los actores."
   ]
  },
  {
   "cell_type": "code",
   "execution_count": 76,
   "metadata": {},
   "outputs": [
    {
     "name": "stdout",
     "output_type": "stream",
     "text": [
      "Conexión establecida con BD_cinemextract\n",
      "3952 registro/s insertado/s\n"
     ]
    }
   ],
   "source": [
    "# Establecemos conexión con la base de datos.\n",
    "cnx = establecer_conexion('BD_cinemextract')\n",
    "\n",
    "# Crear un cursor para ejecutar los queries\n",
    "mycursor = cnx.cursor()\n",
    "\n",
    "df = pd.read_csv(\"data_actores 1995_2004.csv\")     # Creo un dataframe a partir del .csv\n",
    "\n",
    "# Creamos las variables sql y val, que serán los parámetros que recibirá nuestro cursor para insertar múltiples registros\n",
    "\n",
    "sql_actores = \"INSERT INTO actores (nombre, anyo, roles, peliculas, premios) VALUES (%s, %s, %s, %s, %s)\"\n",
    "val = df.values.tolist()   # Convierto el DataFrame a lista de listas. El .values devuelve las tuplas y .tolist lo pasa a una lista.\n",
    "\n",
    "try:\n",
    "  # Insertar los datos en la base de datos\n",
    "  mycursor.executemany(sql_actores, val)\n",
    "  cnx.commit() # Guardar los cambios \n",
    "  print(mycursor.rowcount, \"registro/s insertado/s\")\n",
    "\n",
    "except mysql.connector.Error as err:\n",
    "  print(err)\n",
    "  print(\"Error Code:\", err.errno)\n",
    "  print(\"SQLSTATE\", err.sqlstate)\n",
    "  print(\"Message\", err.msg)\n",
    "  "
   ]
  },
  {
   "cell_type": "markdown",
   "metadata": {},
   "source": [
    "### Llenamos la tabla de peliculas_imdb"
   ]
  },
  {
   "cell_type": "markdown",
   "metadata": {},
   "source": [
    "# NOTA: Aquí habrá que rellenar con el CSV definitivo con el máximo de datos de películas que hayamos podido extraer de Selenium. "
   ]
  },
  {
   "cell_type": "code",
   "execution_count": 77,
   "metadata": {},
   "outputs": [
    {
     "name": "stdout",
     "output_type": "stream",
     "text": [
      "Conexión establecida con BD_cinemextract\n",
      "1054 (42S22): Unknown column 'nan' in 'field list'\n",
      "Error Code: 1054\n",
      "SQLSTATE 42S22\n",
      "Message Unknown column 'nan' in 'field list'\n"
     ]
    }
   ],
   "source": [
    "# Establecemos conexión con la base de datos.\n",
    "cnx = establecer_conexion('BD_cinemextract')\n",
    "\n",
    "# Crear un cursor para ejecutar los queries\n",
    "mycursor = cnx.cursor()\n",
    "\n",
    "# Creamos un dataframe a partir de la lectura del archivo CSV con los datos extraídos de IMB\n",
    "\n",
    "df = pd.read_csv('peliculas_ext_sel_1995_1999.csv')\n",
    "\n",
    "# Convertir la columna Puntuación IMDb de string a float\n",
    "df['Puntuación IMDb'] = df['Puntuación IMDb'].str.replace(',', '.')\n",
    "df['Puntuación IMDb'] = df['Puntuación IMDb'].str.replace('No disponible', '0.0')\n",
    "df['Puntuación IMDb'] = df['Puntuación IMDb'].astype(float)\n",
    "\n",
    "# Creamos las variables sql y val, que serán los parámetros que recibirá nuestro cursor para insertar múltiples registros\n",
    "\n",
    "sql = \"INSERT INTO peliculas_imdb(titulo, puntuacion_imdb, direccion, guionistas, argumento, id_owner) VALUES (%s, %s, %s, %s, %s, %s)\"\n",
    "val = df.values.tolist()   # Convierto el DataFrame a lista de listas, porque aqui no se pueden indicar a \"cholon\" todos los datos uno a uno.\n",
    "                          # el .values devuelve las tuplas y .tolist lo pasa a una lista, por lo que ya tengo una lista de tuplas\n",
    "try:\n",
    "  # Insertar los datos en la base de datos\n",
    "  mycursor.executemany(sql, val)\n",
    "  cnx.commit() # Guardar los cambios y cerrar la conexión\n",
    "  print(mycursor.rowcount, \"registro/s insertado/s\")\n",
    "\n",
    "except mysql.connector.Error as err:\n",
    "  print(err)\n",
    "  print(\"Error Code:\", err.errno)\n",
    "  print(\"SQLSTATE\", err.sqlstate)\n",
    "  print(\"Message\", err.msg)\n",
    "\n",
    "mycursor.close()    # Cerrar el cursosr\n",
    "cnx.close()         # Cerrar la conexión\n"
   ]
  },
  {
   "cell_type": "code",
   "execution_count": 78,
   "metadata": {},
   "outputs": [],
   "source": [
    "\n",
    "# Y finalmente cerramos la conexión.\n",
    "\n",
    "cnx.close() "
   ]
  }
 ],
 "metadata": {
  "kernelspec": {
   "display_name": "Python 3",
   "language": "python",
   "name": "python3"
  },
  "language_info": {
   "codemirror_mode": {
    "name": "ipython",
    "version": 3
   },
   "file_extension": ".py",
   "mimetype": "text/x-python",
   "name": "python",
   "nbconvert_exporter": "python",
   "pygments_lexer": "ipython3",
   "version": "3.12.4"
  }
 },
 "nbformat": 4,
 "nbformat_minor": 2
}
