{
 "cells": [
  {
   "cell_type": "code",
   "execution_count": 3,
   "metadata": {},
   "outputs": [
    {
     "data": {
      "text/plain": [
       "<Response [200]>"
      ]
     },
     "execution_count": 3,
     "metadata": {},
     "output_type": "execute_result"
    }
   ],
   "source": [
    "from bs4 import BeautifulSoup\n",
    "import requests\n",
    "import pandas as pd\n",
    "import re\n",
    "\n",
    "url = \"https://dev.adalab.es/api/cinema/movies?year=1900&genre=Comedy\"\n",
    "llamada_comedy= requests.get(url)                          #llamo a la url para ver si puedo ver los datos\n",
    "llamada_comedy"
   ]
  },
  {
   "cell_type": "code",
   "execution_count": 4,
   "metadata": {},
   "outputs": [
    {
     "name": "stdout",
     "output_type": "stream",
     "text": [
      "{'info': {'count': 10}, 'results': [{'id': 19833, 'title': 'How It Feels to Be Run Over', 'type': 'Short', 'year': '1900', 'genre': 'Comedy', 'idOwner': 'tt0000309', 'image': 'https://m.media-amazon.com/images/M/MV5BYjQ0NDM2NzktY2RkOS00MjY1LWEyYjctZWFlZjRjZDg3MGZlXkEyXkFqcGdeQXVyNDE5MTU2MDE@._V1_.jpg'}, {'id': 19834, 'title': 'The Clown and the Alchemist', 'type': 'Short', 'year': '1900', 'genre': 'Comedy', 'idOwner': 'tt0000287', 'image': 'https://m.media-amazon.com/images/M/MV5BZTIwNDBjYjAtZjcxYi00MzI1LTgwMTItZDhjNmE3NGI2MTIwXkEyXkFqcGdeQXVyNzg5OTk2OA@@._V1_.jpg'}, {'id': 19835, 'title': \"Avenue de l'opéra\", 'type': 'Short', 'year': '1900', 'genre': 'Comedy', 'idOwner': 'tt0000274', 'image': 'https://m.media-amazon.com/images/M/MV5BMDhlMTg3MmUtMWM0OC00YjE5LWFiNjQtNDFiZGFlOGQ2OGY5XkEyXkFqcGdeQXVyNTM3MDMyMDQ@._V1_.jpg'}, {'id': 19836, 'title': 'Above the Limit', 'type': 'Short', 'year': '1900', 'genre': 'Comedy', 'idOwner': 'tt0000265', 'image': 'https://m.media-amazon.com/images/M/MV5BZDZkMjQ5NGEtYjNkOS00NDkxLWJlYTMtOTcyNjhhNmQ4ZmIxXkEyXkFqcGdeQXVyNzg5OTk2OA@@._V1_.jpg'}, {'id': 19837, 'title': 'The Enchanted Drawing', 'type': 'Short', 'year': '1900', 'genre': 'Comedy', 'idOwner': 'tt0000300', 'image': 'https://m.media-amazon.com/images/M/MV5BZGEzZTQ4YjctZThlZi00ODIxLWJjNzctYjliMzc1YTE2ZjFiXkEyXkFqcGdeQXVyNDE5MTU2MDE@._V1_.jpg'}, {'id': 19838, 'title': 'The Troublesome Fly', 'type': 'Short', 'year': '1900', 'genre': 'Comedy', 'idOwner': 'tt0000412', 'image': 'Unknown'}, {'id': 19839, 'title': 'As Seen Through a Telescope', 'type': 'Short', 'year': '1900', 'genre': 'Comedy', 'idOwner': 'tt0000272', 'image': 'https://m.media-amazon.com/images/M/MV5BODBjNmQwMjQtYWM5Mi00Zjc0LTk4MDEtYzgzNDdkMjZhYzU1XkEyXkFqcGdeQXVyODE2Nzc4NTA@._V1_.jpg'}, {'id': 19840, 'title': 'Let Me Dream Again', 'type': 'Short', 'year': '1900', 'genre': 'Comedy', 'idOwner': 'tt0000313', 'image': 'https://m.media-amazon.com/images/M/MV5BMWNhYjUzZDAtZjdhNi00ZjQyLWIzMDktM2U1NTczNWE2YmQ4XkEyXkFqcGdeQXVyNDg5MjMyMTM@._V1_.jpg'}, {'id': 19841, 'title': 'Chirurgie fin de siècle', 'type': 'Short', 'year': '1900', 'genre': 'Comedy', 'idOwner': 'tt0000286', 'image': 'https://m.media-amazon.com/images/M/MV5BMmU0ZWY1MzgtZjQwZS00YzAwLTg1YWMtYzA1YjQ4MjI4NmIwXkEyXkFqcGdeQXVyMDM3NjU0MA@@._V1_.jpg'}, {'id': 19842, 'title': 'Chimmie Hicks and the Rum Omelet', 'type': 'Short', 'year': '1900', 'genre': 'Comedy', 'idOwner': 'tt0000310', 'image': 'Unknown'}]}\n"
     ]
    },
    {
     "data": {
      "text/plain": [
       "2"
      ]
     },
     "execution_count": 4,
     "metadata": {},
     "output_type": "execute_result"
    }
   ],
   "source": [
    "comedy = llamada_comedy.json()         # Como la respuesta es correcta devuelvo los datos en formato json y los guardo en una variable.\n",
    "print(comedy)\n",
    "len(comedy)                       #tiene 2 elementos necesito ver cuales son por separado"
   ]
  },
  {
   "cell_type": "code",
   "execution_count": 13,
   "metadata": {},
   "outputs": [
    {
     "data": {
      "text/plain": [
       "dict_keys(['info', 'results'])"
      ]
     },
     "execution_count": 13,
     "metadata": {},
     "output_type": "execute_result"
    }
   ],
   "source": [
    "comedy.keys()                 # accedo a las claves"
   ]
  },
  {
   "cell_type": "code",
   "execution_count": 12,
   "metadata": {},
   "outputs": [
    {
     "data": {
      "text/plain": [
       "{'count': 10}"
      ]
     },
     "execution_count": 12,
     "metadata": {},
     "output_type": "execute_result"
    }
   ],
   "source": [
    "comedy[\"info\"]                # accedo al valor del primer elemento"
   ]
  },
  {
   "cell_type": "code",
   "execution_count": 5,
   "metadata": {},
   "outputs": [
    {
     "name": "stdout",
     "output_type": "stream",
     "text": [
      "{'info': {'count': 10}, 'results': [{'id': 19833, 'title': 'How It Feels to Be Run Over', 'type': 'Short', 'year': '1900', 'genre': 'Comedy', 'idOwner': 'tt0000309', 'image': 'https://m.media-amazon.com/images/M/MV5BYjQ0NDM2NzktY2RkOS00MjY1LWEyYjctZWFlZjRjZDg3MGZlXkEyXkFqcGdeQXVyNDE5MTU2MDE@._V1_.jpg'}, {'id': 19834, 'title': 'The Clown and the Alchemist', 'type': 'Short', 'year': '1900', 'genre': 'Comedy', 'idOwner': 'tt0000287', 'image': 'https://m.media-amazon.com/images/M/MV5BZTIwNDBjYjAtZjcxYi00MzI1LTgwMTItZDhjNmE3NGI2MTIwXkEyXkFqcGdeQXVyNzg5OTk2OA@@._V1_.jpg'}, {'id': 19835, 'title': \"Avenue de l'opéra\", 'type': 'Short', 'year': '1900', 'genre': 'Comedy', 'idOwner': 'tt0000274', 'image': 'https://m.media-amazon.com/images/M/MV5BMDhlMTg3MmUtMWM0OC00YjE5LWFiNjQtNDFiZGFlOGQ2OGY5XkEyXkFqcGdeQXVyNTM3MDMyMDQ@._V1_.jpg'}, {'id': 19836, 'title': 'Above the Limit', 'type': 'Short', 'year': '1900', 'genre': 'Comedy', 'idOwner': 'tt0000265', 'image': 'https://m.media-amazon.com/images/M/MV5BZDZkMjQ5NGEtYjNkOS00NDkxLWJlYTMtOTcyNjhhNmQ4ZmIxXkEyXkFqcGdeQXVyNzg5OTk2OA@@._V1_.jpg'}, {'id': 19837, 'title': 'The Enchanted Drawing', 'type': 'Short', 'year': '1900', 'genre': 'Comedy', 'idOwner': 'tt0000300', 'image': 'https://m.media-amazon.com/images/M/MV5BZGEzZTQ4YjctZThlZi00ODIxLWJjNzctYjliMzc1YTE2ZjFiXkEyXkFqcGdeQXVyNDE5MTU2MDE@._V1_.jpg'}, {'id': 19838, 'title': 'The Troublesome Fly', 'type': 'Short', 'year': '1900', 'genre': 'Comedy', 'idOwner': 'tt0000412', 'image': 'Unknown'}, {'id': 19839, 'title': 'As Seen Through a Telescope', 'type': 'Short', 'year': '1900', 'genre': 'Comedy', 'idOwner': 'tt0000272', 'image': 'https://m.media-amazon.com/images/M/MV5BODBjNmQwMjQtYWM5Mi00Zjc0LTk4MDEtYzgzNDdkMjZhYzU1XkEyXkFqcGdeQXVyODE2Nzc4NTA@._V1_.jpg'}, {'id': 19840, 'title': 'Let Me Dream Again', 'type': 'Short', 'year': '1900', 'genre': 'Comedy', 'idOwner': 'tt0000313', 'image': 'https://m.media-amazon.com/images/M/MV5BMWNhYjUzZDAtZjdhNi00ZjQyLWIzMDktM2U1NTczNWE2YmQ4XkEyXkFqcGdeQXVyNDg5MjMyMTM@._V1_.jpg'}, {'id': 19841, 'title': 'Chirurgie fin de siècle', 'type': 'Short', 'year': '1900', 'genre': 'Comedy', 'idOwner': 'tt0000286', 'image': 'https://m.media-amazon.com/images/M/MV5BMmU0ZWY1MzgtZjQwZS00YzAwLTg1YWMtYzA1YjQ4MjI4NmIwXkEyXkFqcGdeQXVyMDM3NjU0MA@@._V1_.jpg'}, {'id': 19842, 'title': 'Chimmie Hicks and the Rum Omelet', 'type': 'Short', 'year': '1900', 'genre': 'Comedy', 'idOwner': 'tt0000310', 'image': 'Unknown'}]}\n"
     ]
    }
   ],
   "source": [
    "comedy[\"results\"]               # accedo al valor del segundo elemento, que a su vez son 10 elementos en este caso peliculas\n",
    "print(comedy)"
   ]
  },
  {
   "cell_type": "code",
   "execution_count": 6,
   "metadata": {},
   "outputs": [
    {
     "data": {
      "text/plain": [
       "('How It Feels to Be Run Over', 'Short', '1900', 19833)"
      ]
     },
     "execution_count": 6,
     "metadata": {},
     "output_type": "execute_result"
    }
   ],
   "source": [
    "# aqui muestro solo los datos de una pelicula pero tenemos 10 y no podemos ir una por una\n",
    "\n",
    "title = comedy[\"results\"][0][\"title\"]\n",
    "type = comedy[\"results\"][0][\"type\"]\n",
    "year = comedy[\"results\"][0][\"year\"]\n",
    "id = comedy[\"results\"][0][\"id\"]\n",
    "\n",
    "tupla_comedy_1900 = title,type,year,id\n",
    "Peliculas_cortos = tuple(tupla_comedy_1900)\n",
    "Peliculas_cortos"
   ]
  },
  {
   "cell_type": "code",
   "execution_count": 15,
   "metadata": {},
   "outputs": [],
   "source": [
    "lista_pelis = [] "
   ]
  },
  {
   "cell_type": "code",
   "execution_count": 16,
   "metadata": {},
   "outputs": [
    {
     "name": "stdout",
     "output_type": "stream",
     "text": [
      "[('How It Feels to Be Run Over', 'Short', '1900', 19833), ('The Clown and the Alchemist', 'Short', '1900', 19834), (\"Avenue de l'opéra\", 'Short', '1900', 19835), ('Above the Limit', 'Short', '1900', 19836), ('The Enchanted Drawing', 'Short', '1900', 19837), ('The Troublesome Fly', 'Short', '1900', 19838), ('As Seen Through a Telescope', 'Short', '1900', 19839), ('Let Me Dream Again', 'Short', '1900', 19840), ('Chirurgie fin de siècle', 'Short', '1900', 19841), ('Chimmie Hicks and the Rum Omelet', 'Short', '1900', 19842)]\n"
     ]
    }
   ],
   "source": [
    "for peli in comedy[\"results\"]:                          # recorro la lista de diccionarios y en cada iteracion añado los datos que necesito al diccionario\n",
    "    lista_pelis.append((peli[\"title\"],peli[\"type\"],peli[\"year\"],peli[\"id\"]))\n",
    "\n",
    "print(lista_pelis)"
   ]
  },
  {
   "cell_type": "code",
   "execution_count": 17,
   "metadata": {},
   "outputs": [
    {
     "name": "stdout",
     "output_type": "stream",
     "text": [
      "                                  0      1     2      3\n",
      "0       How It Feels to Be Run Over  Short  1900  19833\n",
      "1       The Clown and the Alchemist  Short  1900  19834\n",
      "2                 Avenue de l'opéra  Short  1900  19835\n",
      "3                   Above the Limit  Short  1900  19836\n",
      "4             The Enchanted Drawing  Short  1900  19837\n",
      "5               The Troublesome Fly  Short  1900  19838\n",
      "6       As Seen Through a Telescope  Short  1900  19839\n",
      "7                Let Me Dream Again  Short  1900  19840\n",
      "8           Chirurgie fin de siècle  Short  1900  19841\n",
      "9  Chimmie Hicks and the Rum Omelet  Short  1900  19842\n"
     ]
    }
   ],
   "source": [
    "df = pd.DataFrame(lista_pelis)\n",
    "print(df)"
   ]
  },
  {
   "cell_type": "code",
   "execution_count": null,
   "metadata": {},
   "outputs": [],
   "source": [
    "# hay que crear una funcion para poder extraer toda las peliculas de la \n",
    "def extraer_peliculas(genero, año):\n",
    "    "
   ]
  }
 ],
 "metadata": {
  "kernelspec": {
   "display_name": "base",
   "language": "python",
   "name": "python3"
  },
  "language_info": {
   "codemirror_mode": {
    "name": "ipython",
    "version": 3
   },
   "file_extension": ".py",
   "mimetype": "text/x-python",
   "name": "python",
   "nbconvert_exporter": "python",
   "pygments_lexer": "ipython3",
   "version": "3.11.7"
  }
 },
 "nbformat": 4,
 "nbformat_minor": 2
}
