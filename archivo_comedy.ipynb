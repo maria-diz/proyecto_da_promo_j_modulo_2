{
 "cells": [
  {
   "cell_type": "code",
   "execution_count": 3,
   "metadata": {},
   "outputs": [
    {
     "name": "stdout",
     "output_type": "stream",
     "text": [
      "[('How It Feels to Be Run Over', 'Short', '1900', 19833), ('The Clown and the Alchemist', 'Short', '1900', 19834), (\"Avenue de l'opéra\", 'Short', '1900', 19835), ('Above the Limit', 'Short', '1900', 19836), ('The Enchanted Drawing', 'Short', '1900', 19837), ('The Troublesome Fly', 'Short', '1900', 19838), ('As Seen Through a Telescope', 'Short', '1900', 19839), ('Let Me Dream Again', 'Short', '1900', 19840), ('Chirurgie fin de siècle', 'Short', '1900', 19841), ('Chimmie Hicks and the Rum Omelet', 'Short', '1900', 19842), ('The Countryman and the Cinematograph', 'Short', '1901', 21744), ('Undressing Extraordinary', 'Short', '1901', 21745), ('The Haunted Curiosity Shop', 'Short', '1901', 21746), ('The Cheese Mites, or Lilliputians in a London Restaurant', 'Short', '1901', 21747), (\"L'homme à la tête en caoutchouc\", 'Short', '1901', 21748), ('Another Job for the Undertaker', 'Short', '1901', 21749), ('Stop Thief!', 'Short', '1901', 21750), ('Nouvelles luttes extravagantes', 'Short', '1901', 21751), ('Escenas callejeras', 'Short', '1901', 21752), ('En casa del fotógrafo', 'Short', '1901', 21753), ('Sage-femme de première classe', 'Short', '1902', 23700), ('Les trésors de satan', 'Short', '1902', 23701), ('La dent récalcitrante', 'Short', '1902', 23702), ('Le lion savant', 'Short', '1902', 23703), ('Le marchand de ballons', 'Short', '1902', 23704), ('En faction', 'Short', '1902', 23705), ('Farces de cuisinière', 'Short', '1902', 23706), ('Uncle Josh at the Moving Picture Show', 'Short', '1902', 23707), ('Trompé mais content', 'Short', '1902', 23708), ('La cour des miracles', 'Short', '1902', 23709), (\"The Messenger Boy's Mistake\", 'Short', '1903', 25464), ('Rip Van Winkle', 'Short', '1903', 25465), ('Le mélomane', 'Short', '1903', 25466), ('The Sick Kitten', 'Short', '1903', 25467), ('A Chess Dispute', 'Short', '1903', 25468), ('Comment monsieur prend son bain', 'Short', '1903', 25469), ('An Extraordinary Cab Accident', 'Short', '1903', 25470), (\"Mary Jane's Mishap\", 'Short', '1903', 25471), ('A Romance of the Rail', 'Short', '1903', 25472), ('Le revenant', 'Short', '1903', 25473), ('Les deux rivaux', 'Short', '1904', 28110), ('Personal', 'Short', '1904', 28111), ('Comment on disperse les foules', 'Short', '1904', 28112), ('Behind the Scenes', 'Short', '1904', 28113), ('Los guapos del parque', 'Short', '1904', 28114), ('Animated Painting', 'Short', '1904', 28115), ('Sorcellerie culinaire', 'Short', '1904', 28116), ('Le bourreau turc', 'Short', '1904', 28117), ('Les apaches', 'Short', '1904', 28118), ('Les mésaventures de Monsieur Boit-sans-soif', 'Short', '1904', 28119), (\"Le songe d'une nuit d'été\", 'Short', '1910', 28518), ('Bjørnejagten', 'Short', '1910', 28519), ('The Bewitched Boxing Gloves', 'Short', '1910', 28520), ('Almost', 'Short', '1910', 28521), ('Una farsa de colas', 'Short', '1910', 28522), ('Taming a Husband', 'Short', '1910', 28523), ('A Lucky Toothache', 'Short', '1910', 28524), ('White Roses', 'Short', '1910', 28525), ('The Electrical Vitalizer', 'Short', '1910', 28526), ('Cretinetti e le donne', 'Short', '1910', 28527), (\"Billy McGrath's Love Letters\", 'Short', '1912', 28629), ('Alkali Ike Bests Broncho Billy', 'Short', '1912', 28630), ('The Brave Hunter', 'Short', '1912', 28631), (\"The Drummer's Vacation\", 'Short', '1912', 28632), (\"At Scrogginses' Corner\", 'Short', '1912', 28634), ('The Bachelor and the Baby', 'Short', '1912', 28635), ('A Family Mixup', 'Short', '1912', 28637), ('Jarní sen starého mládence', 'Movie', '1913', 28948), (\"Alkali Ike's Homecoming\", 'Short', '1913', 28949), (\"Algy's Awful Auto\", 'Short', '1913', 28950), ('An Accidental Servant', 'Short', '1913', 28951), ('College Chums', 'Short', '1913', 28953), ('The Long and Short of It', 'Short', '1913', 28954), ('Alkali Ike in Jayville', 'Short', '1913', 28955), ('The Gangsters', 'Short', '1913', 28956), ('Heroic Harold', 'Short', '1913', 28957), ('Mariage forcé', 'Short', '1914', 29268), ('Max, professeur de tango', 'Short', '1914', 29269), ('Broken Nose Bailey', 'Short', '1914', 29270), (\"Mabel's Stormy Love Affair\", 'Short', '1914', 29271), ('Mack at It Again', 'Short', '1914', 29272), ('Chicken Chaser', 'Short', '1914', 29273), ('Marrying Sue', 'Short', '1914', 29274), ('An Affair for the Police', 'Short', '1914', 29275), ('Among the Mourners', 'Short', '1914', 29276), ('The Bottom of the Sea', 'Short', '1914', 29277), ('Det blaa vidunder', 'Movie', '1915', 29588), (\"Auntie's Portrait\", 'Short', '1915', 29589), (\"Ambrose's Little Hatchet\", 'Short', '1915', 29590), ('Hearts and Clubs', 'Short', '1915', 29591), ('The Double Deception', 'Short', '1915', 29592), ('The Hungry Actors', 'Short', '1915', 29593), ('Mazie Puts One Over', 'Short', '1915', 29594), ('A kölcsönkért csecsemök', 'Movie', '1915', 29595), ('The Little Teacher', 'Short', '1915', 29596), ('All Aboard', 'Short', '1915', 29597), ('The Kiss', 'Short', '1900', 21156), ('Old Maids with Young Hearts', 'Short', '1900', 21157), ('The Artist and the Flower Girl', 'Short', '1901', 23063), ('Love by the Light of the Moon', 'Short', '1901', 23065), ('Beauty and the Beast', 'Short', '1903', 27230), ('Be Good', 'Short', '1903', 27231), ('The Squire and the Maid', 'Short', '1903', 27232), ('He Loves Me, He Loves Me Not', 'Short', '1903', 27233), ('The Girl at the Window', 'Short', '1903', 27234), ('The Widow', 'Short', '1903', 27235), ('Raffles, the Amateur Cracksman', 'Short', '1905', 28496), ('Beauty and the Beast', 'Short', '1905', 28498), (\"The Deputy's Love Affair\", 'Short', '1912', 28548), ('The Angel of the Studio', 'Short', '1912', 28549), ('All for a Girl', 'Short', '1912', 28550), ('Before the White Man Came', 'Short', '1912', 28551), (\"Bella's Beaus\", 'Short', '1912', 28552), (\"The Bachelor's Waterloo\", 'Short', '1912', 28553), (\"The Clown's Triumph\", 'Short', '1912', 28554), ('A Brave Little Woman', 'Short', '1912', 28555), ('Anny - en gatepiges roman', 'Movie', '1912', 28556), ('All for Her', 'Short', '1912', 28557), ('Cross Purposes', 'Short', '1913', 29151), ('The Heart of an Artist', 'Short', '1913', 29152), ('Kak khoroshi, kak svezhi byli rozy', 'Movie', '1913', 29153), ('The Adventure of an Heiress', 'Short', '1913', 29154), ('The Dangling Noose', 'Short', '1913', 29155), (\"Mary's Romance\", 'Short', '1913', 29156), ('The Echo of a Song', 'Short', '1913', 29157), ('Alexandra', 'Movie', '1914', 29468), ('The Crucible', 'Movie', '1914', 29469), (\"Broncho Billy's True Love\", 'Short', '1914', 29470), (\"'Midst Woodland Shadows\", 'Short', '1914', 29471), (\"A Bachelor's Love Story\", 'Short', '1914', 29472), (\"The Countess Betty's Mine\", 'Short', '1914', 29473), ('Across the Pacific', 'Movie', '1914', 29474), ('Blood Will Tell', 'Short', '1914', 29475), ('The Countess', 'Short', '1914', 29476), ('Arms and the Gringo', 'Short', '1914', 29477), ('Anna Karenina', 'Movie', '1915', 29790), ('The Cheat', 'Movie', '1915', 29791), ('The Gentleman from Indiana', 'Movie', '1915', 29792), ('The Girl of the Night', 'Short', '1915', 29793), ('Celeste', 'Short', '1915', 29794), ('Double Trouble', 'Movie', '1915', 29795), ('The Heart Breaker', 'Short', '1915', 29796), (\"A Cattle Queen's Romance\", 'Short', '1915', 29797)]\n"
     ]
    }
   ],
   "source": [
    "from bs4 import BeautifulSoup\n",
    "import requests\n",
    "import pandas as pd\n",
    "import re\n",
    "\n",
    "def extraer_peliculas_rango (generos, año_ini, ano_fin):           # creo una funcion donde puedo sacar varios generos y el rango    \n",
    "    lista_pelis = []                                               # creo una lista vacia que contendrá tuplas como elementos       \n",
    "    for genero in generos:                                         # recorro los generos y dentro de los generos \n",
    "        for año in range(int(año_ini),int(ano_fin)+1):             # recorro los años en el rango entre año inicial y final \n",
    "            url = f\"https://dev.adalab.es/api/cinema/movies?year={año}&genre={genero}\"\n",
    "            llamada_peliculas = requests.get(url)                      #llamo a la url para ver todos los datos que tiene \n",
    "\n",
    "            if llamada_peliculas.status_code != 200:                  # Comprueba si la respuesta no fue exitosa (código de estado distinto de 200).\n",
    "                print(f\"El motivo por el que la llamada falló es {llamada_peliculas.reason}\") \n",
    "            else:\n",
    "                pelis_json = llamada_peliculas.json()        # Como la respuesta es correcta devuelvo los datos en formato json y los guardo en una \n",
    "                                                             #variable. lo que devuelve es diccionario con todas las info de la peliculas solicitadas\n",
    "        \n",
    "                for peli in pelis_json[\"results\"]:         # recorro la lista de diccionarios del json \n",
    "                    lista_pelis.append((peli[\"title\"],peli[\"type\"], peli[\"year\"], peli[\"id\"])) # por cada pelicula construyo una tupla y se va \n",
    "                                                                                                # añadiendo a la lista\n",
    "    print(lista_pelis)     \n",
    "    #cabecera = [\"Titulo\",\"Tipo\",\"Año\",\"Id\"]                     \n",
    "    #df = pd.DataFrame(lista_pelis, columns=cabecera)            # creo el  data frame con 2 parametros uno es la lista_pelis y el otro las cabeceras\n",
    "    #print(df)\n",
    "\n",
    "\n",
    "extraer_peliculas_rango([\"Comedy\",\"Romance\"],\"1900\",\"1915\")\n",
    "\n"
   ]
  }
 ],
 "metadata": {
  "kernelspec": {
   "display_name": "base",
   "language": "python",
   "name": "python3"
  },
  "language_info": {
   "codemirror_mode": {
    "name": "ipython",
    "version": 3
   },
   "file_extension": ".py",
   "mimetype": "text/x-python",
   "name": "python",
   "nbconvert_exporter": "python",
   "pygments_lexer": "ipython3",
   "version": "3.11.7"
  }
 },
 "nbformat": 4,
 "nbformat_minor": 2
}
