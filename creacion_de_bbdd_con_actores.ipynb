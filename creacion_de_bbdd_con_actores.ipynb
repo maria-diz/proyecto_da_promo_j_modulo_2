{
 "cells": [
  {
   "cell_type": "code",
   "execution_count": 7,
   "metadata": {},
   "outputs": [
    {
     "name": "stdout",
     "output_type": "stream",
     "text": [
      "Requirement already satisfied: mysql-connector in c:\\users\\anabo\\appdata\\local\\programs\\python\\python312\\lib\\site-packages (2.2.9)\n",
      "Note: you may need to restart the kernel to use updated packages.\n"
     ]
    },
    {
     "name": "stderr",
     "output_type": "stream",
     "text": [
      "\n",
      "[notice] A new release of pip is available: 24.0 -> 24.2\n",
      "[notice] To update, run: python.exe -m pip install --upgrade pip\n"
     ]
    }
   ],
   "source": [
    "pip install mysql-connector"
   ]
  },
  {
   "cell_type": "code",
   "execution_count": 8,
   "metadata": {},
   "outputs": [
    {
     "name": "stdout",
     "output_type": "stream",
     "text": [
      "Requirement already satisfied: mysql-connector-python in c:\\users\\anabo\\appdata\\local\\programs\\python\\python312\\lib\\site-packages (9.0.0)\n",
      "Note: you may need to restart the kernel to use updated packages.\n"
     ]
    },
    {
     "name": "stderr",
     "output_type": "stream",
     "text": [
      "\n",
      "[notice] A new release of pip is available: 24.0 -> 24.2\n",
      "[notice] To update, run: python.exe -m pip install --upgrade pip\n"
     ]
    }
   ],
   "source": [
    "pip install mysql-connector-python"
   ]
  },
  {
   "cell_type": "code",
   "execution_count": 9,
   "metadata": {},
   "outputs": [],
   "source": [
    "# Importar librería para la conexión con MySQL\n",
    "# -----------------------------------------------------------------------\n",
    "import mysql.connector\n",
    "from mysql.connector import errorcode\n",
    "\n",
    "\n",
    "# Importar librerías para manipulación y análisis de datos\n",
    "# -----------------------------------------------------------------------\n",
    "import pandas as pd\n",
    "import numpy as np\n",
    "\n",
    "# Configuraciones\n",
    "# -----------------------------------------------------------------------\n",
    "\n",
    "pd.set_option('display.max_columns', None) # Muestra todas las columnas de los DataFrame\n",
    "pd.set_option('display.width', 1000) # Ajusta el ancho de la consola para evitar truncamientos\n"
   ]
  },
  {
   "cell_type": "code",
   "execution_count": 10,
   "metadata": {},
   "outputs": [],
   "source": [
    "# Tratamos de crear la conexión con SQL. Usamos try/except para manejar los posibles errores.\n",
    "\n",
    "config = {\n",
    "  'user': 'root',\n",
    "  'password': 'AlumnaAdalab',\n",
    "  'host': '127.0.0.1',\n",
    "  'raise_on_warnings': True\n",
    "}\n",
    "\n",
    "# NOTA: No le paso como parámetro la base de datos precisamente porque la vamos a crear nosotras.\n",
    "\n",
    "try:\n",
    "  cnx = mysql.connector.connect(**config)\n",
    "\n",
    "except mysql.connector.Error as err:\n",
    "\n",
    "  if err.errno == errorcode.ER_ACCESS_DENIED_ERROR:\n",
    "    print(\"Hay un problema con tu nombre de usuario o contraseña\")\n",
    "  \n",
    "  elif err.errno == errorcode.ER_BAD_DB_ERROR:\n",
    "    print(\"La base de datos no existe\")\n",
    "  \n",
    "  else:\n",
    "    print(err)"
   ]
  },
  {
   "cell_type": "markdown",
   "metadata": {},
   "source": [
    "Creamos nuestra base de datos: cinemextract"
   ]
  },
  {
   "cell_type": "code",
   "execution_count": 11,
   "metadata": {},
   "outputs": [
    {
     "name": "stdout",
     "output_type": "stream",
     "text": [
      "1007 (HY000): Can't create database 'cinemextract'; database exists\n",
      "Error Code: 1007\n",
      "SQLSTATE HY000\n",
      "Message Can't create database 'cinemextract'; database exists\n"
     ]
    }
   ],
   "source": [
    "# crear un cursor para poder ejecutar nuestras consultas \n",
    "\n",
    "mycursor = cnx.cursor()\n",
    "\n",
    "# crear nuestra base de datos (schema)\n",
    "\n",
    "try:\n",
    "    mycursor.execute(\"CREATE DATABASE cinemextract\")\n",
    "    print(mycursor)\n",
    "\n",
    "except mysql.connector.Error as err:\n",
    "    print(err)\n",
    "    print(\"Error Code:\", err.errno)\n",
    "    print(\"SQLSTATE\", err.sqlstate)\n",
    "    print(\"Message\", err.msg)\n",
    "\n"
   ]
  },
  {
   "cell_type": "markdown",
   "metadata": {},
   "source": [
    "Configuramos la conexión con la base de datos que acabamos de crear."
   ]
  },
  {
   "cell_type": "code",
   "execution_count": 12,
   "metadata": {},
   "outputs": [
    {
     "name": "stdout",
     "output_type": "stream",
     "text": [
      "Conexión establecida con cinemextract\n"
     ]
    }
   ],
   "source": [
    "# Creamos la conexión con SQL a la base de datos que acabamos de crear. Usamos try/except para manejar los posibles errores.\n",
    "\n",
    "config = {\n",
    "  'user': 'root',\n",
    "  'password': 'AlumnaAdalab',\n",
    "  'host': '127.0.0.1',\n",
    "  'database' : 'cinemextract',\n",
    "  'raise_on_warnings': True\n",
    "}\n",
    "\n",
    "try:\n",
    "  cnx = mysql.connector.connect(**config)\n",
    "  print(\"Conexión establecida con cinemextract\")\n",
    "\n",
    "except mysql.connector.Error as err:\n",
    "\n",
    "  if err.errno == errorcode.ER_ACCESS_DENIED_ERROR:\n",
    "    print(\"Hay un problema con tu nombre de usuario o contraseña\")\n",
    "  \n",
    "  elif err.errno == errorcode.ER_BAD_DB_ERROR:\n",
    "    print(\"La base de datos no existe\")\n",
    "  \n",
    "  else:\n",
    "    print(err)"
   ]
  },
  {
   "cell_type": "markdown",
   "metadata": {},
   "source": [
    "Creamos las tablas de nuestra base de datos.\n",
    "\n",
    "Empezamos por pelicula_api"
   ]
  },
  {
   "cell_type": "code",
   "execution_count": 13,
   "metadata": {},
   "outputs": [
    {
     "name": "stdout",
     "output_type": "stream",
     "text": [
      "1050 (42S01): Table 'pelicula_api' already exists\n",
      "Error Code: 1050\n",
      "SQLSTATE 42S01\n",
      "Message Table 'pelicula_api' already exists\n"
     ]
    }
   ],
   "source": [
    "\n",
    "query_tabla_api = \"\"\"CREATE TABLE pelicula_api (\n",
    "\n",
    "    indice INT,\t\n",
    "    tipo VARCHAR(20), \n",
    "    titulo VARCHAR(250), \n",
    "    anyo INT, \n",
    "    genero VARCHAR(50),\t \n",
    "    id_api INT,\t\n",
    "    id_owner VARCHAR(50))\"\"\" \n",
    "\n",
    "mycursor = cnx.cursor()\n",
    "\n",
    "\n",
    "try:\n",
    "    mycursor.execute(query_tabla_api)\n",
    "    print(mycursor)\n",
    "except mysql.connector.Error as err:\n",
    "    print(err)\n",
    "    print(\"Error Code:\", err.errno)\n",
    "    print(\"SQLSTATE\", err.sqlstate)\n",
    "    print(\"Message\", err.msg)\n",
    "                                    "
   ]
  },
  {
   "cell_type": "markdown",
   "metadata": {},
   "source": [
    "Creamos la tabla de datos peliculas_imdb"
   ]
  },
  {
   "cell_type": "code",
   "execution_count": 14,
   "metadata": {},
   "outputs": [
    {
     "name": "stdout",
     "output_type": "stream",
     "text": [
      "1050 (42S01): Table 'peliculas_imdb' already exists\n",
      "Error Code: 1050\n",
      "SQLSTATE 42S01\n",
      "Message Table 'peliculas_imdb' already exists\n"
     ]
    }
   ],
   "source": [
    "query_tabla_api = \"\"\"CREATE TABLE peliculas_imdb (\n",
    "\n",
    "    indice INT,\t\n",
    "    titulo VARCHAR(250),\n",
    "    puntuacion_imdb FLOAT,\n",
    "    direccion VARCHAR(200),\n",
    "    guionistas VARCHAR(250),\n",
    "    argumento TEXT,\n",
    "    id_owner VARCHAR(50))\"\"\" \n",
    "\n",
    "mycursor = cnx.cursor()\n",
    "\n",
    "try:\n",
    "    mycursor.execute(query_tabla_api)\n",
    "    print(mycursor)\n",
    "except mysql.connector.Error as err:\n",
    "    print(err)\n",
    "    print(\"Error Code:\", err.errno)\n",
    "    print(\"SQLSTATE\", err.sqlstate)\n",
    "    print(\"Message\", err.msg)"
   ]
  },
  {
   "cell_type": "markdown",
   "metadata": {},
   "source": [
    "Aquí hemos tenido que eliminar una columna de la tabla."
   ]
  },
  {
   "cell_type": "markdown",
   "metadata": {},
   "source": [
    "Creamos la tabla actores\n"
   ]
  },
  {
   "cell_type": "code",
   "execution_count": 16,
   "metadata": {},
   "outputs": [
    {
     "name": "stdout",
     "output_type": "stream",
     "text": [
      "1050 (42S01): Table 'actores' already exists\n",
      "Error Code: 1050\n",
      "SQLSTATE 42S01\n",
      "Message Table 'actores' already exists\n"
     ]
    }
   ],
   "source": [
    "\n",
    "query_tabla_api = \"\"\"CREATE TABLE actores (\n",
    "\n",
    "    indice INT,\t\n",
    "    nombre VARCHAR(200), \n",
    "    anyo INT,\n",
    "    roles VARCHAR (200), \n",
    "    peliculas TEXT,\n",
    "    premios TEXT)\"\"\" \n",
    "\n",
    "\n",
    "mycursor = cnx.cursor()\n",
    "\n",
    "\n",
    "try:\n",
    "    mycursor.execute(query_tabla_api)\n",
    "    print(mycursor)\n",
    "except mysql.connector.Error as err:\n",
    "    print(err)\n",
    "    print(\"Error Code:\", err.errno)\n",
    "    print(\"SQLSTATE\", err.sqlstate)\n",
    "    print(\"Message\", err.msg)"
   ]
  },
  {
   "cell_type": "markdown",
   "metadata": {},
   "source": [
    "Modificamos la columna índice. La llamamos id_actor y en lugar de leer los índices del fichero (ahora ya no existen) será una clave auto incremental."
   ]
  },
  {
   "cell_type": "code",
   "execution_count": 17,
   "metadata": {},
   "outputs": [
    {
     "name": "stdout",
     "output_type": "stream",
     "text": [
      "1054 (42S22): Unknown column 'indice' in 'actores'\n",
      "Error Code: 1054\n",
      "SQLSTATE 42S22\n",
      "Message Unknown column 'indice' in 'actores'\n"
     ]
    }
   ],
   "source": [
    "query_modificar_indice = \"\"\"ALTER TABLE actores \n",
    "                            CHANGE indice id_actor INT NOT NULL AUTO_INCREMENT PRIMARY KEY\"\"\" \n",
    "\n",
    "\n",
    "try:\n",
    "    mycursor.execute(query_modificar_indice)\n",
    "    print(\"La columna indice ahora se llama id_actor y se genera automáticamente por sql\")\n",
    "\n",
    "except mysql.connector.Error as err:\n",
    "    print(err)\n",
    "    print(\"Error Code:\", err.errno)\n",
    "    print(\"SQLSTATE\", err.sqlstate)\n",
    "    print(\"Message\", err.msg)"
   ]
  },
  {
   "cell_type": "code",
   "execution_count": 18,
   "metadata": {},
   "outputs": [],
   "source": [
    "# Confirmar los cambios\n",
    "cnx.commit()"
   ]
  },
  {
   "cell_type": "markdown",
   "metadata": {},
   "source": [
    "Creamos la tabla de los premios oscar.\n"
   ]
  },
  {
   "cell_type": "code",
   "execution_count": 19,
   "metadata": {},
   "outputs": [
    {
     "name": "stdout",
     "output_type": "stream",
     "text": [
      "1050 (42S01): Table 'premios_oscar' already exists\n",
      "Error Code: 1050\n",
      "SQLSTATE 42S01\n",
      "Message Table 'premios_oscar' already exists\n"
     ]
    }
   ],
   "source": [
    "\n",
    "query_tabla_api = \"\"\"CREATE TABLE premios_oscar (\n",
    "\n",
    "    anyo_ceremonia INT,\t\n",
    "    mejor_pelicula TEXT, \n",
    "    mejor_director VARCHAR(250),\n",
    "    mejor_actor VARCHAR(250),\n",
    "    mejor_actriz VARCHAR(250))\"\"\" \n",
    "\n",
    "\n",
    "mycursor = cnx.cursor()\n",
    "\n",
    "\n",
    "try:\n",
    "    mycursor.execute(query_tabla_api)\n",
    "    print(mycursor)\n",
    "except mysql.connector.Error as err:\n",
    "    print(err)\n",
    "    print(\"Error Code:\", err.errno)\n",
    "    print(\"SQLSTATE\", err.sqlstate)\n",
    "    print(\"Message\", err.msg)"
   ]
  },
  {
   "cell_type": "markdown",
   "metadata": {},
   "source": [
    "Ojo. Modificamos el nombre de una tabla porque tenía una errata."
   ]
  },
  {
   "cell_type": "code",
   "execution_count": 20,
   "metadata": {},
   "outputs": [
    {
     "name": "stdout",
     "output_type": "stream",
     "text": [
      "1050 (42S01): Table 'peliculas_api' already exists\n",
      "Error Code: 1050\n",
      "SQLSTATE 42S01\n",
      "Message Table 'peliculas_api' already exists\n"
     ]
    }
   ],
   "source": [
    "# insertar valores en cada una de las tablas. Empezamos por pelicula_api, que ha sido mal llamada porque en reaidad era peliculas_api, así que antes de nada la renombro.\n",
    "\n",
    "query_rename = \"ALTER TABLE pelicula_api RENAME peliculas_api\"\n",
    "\n",
    "try:\n",
    "    mycursor.execute(query_rename)\n",
    "    print(mycursor)\n",
    "except mysql.connector.Error as err:\n",
    "    print(err)\n",
    "    print(\"Error Code:\", err.errno)\n",
    "    print(\"SQLSTATE\", err.sqlstate)\n",
    "    print(\"Message\", err.msg)"
   ]
  },
  {
   "cell_type": "markdown",
   "metadata": {},
   "source": [
    "Ya hemos creado nuestras cuatro tablas. Ahora toca insertar los datos de nuestros ficheros .csv\n",
    "\n",
    "Empezamos por la tabla de los premios oscar."
   ]
  },
  {
   "cell_type": "code",
   "execution_count": 21,
   "metadata": {},
   "outputs": [
    {
     "name": "stdout",
     "output_type": "stream",
     "text": [
      "25 registro/s insertado/s\n"
     ]
    }
   ],
   "source": [
    "\n",
    "# Crear un cursor para ejecutar los queries\n",
    "mycursor = cnx.cursor()\n",
    "\n",
    "df = pd.read_csv('tabla_oscar_archivo.csv')\n",
    "\n",
    "# Creamos las variables sql y val, que serán los parámetros que recibirá nuestro cursor para insertar múltiples registros\n",
    "\n",
    "sql = \"INSERT INTO premios_oscar (anyo_ceremonia, mejor_pelicula, mejor_director, mejor_actor, mejor_actriz) VALUES (%s, %s, %s, %s, %s)\"\n",
    "val = df.values.tolist()   # Convierto el DataFrame a lista de listas, porque aqui no se pueden indicar a \"cholon\" todos los datos uno a uno.\n",
    "                          # el .values devuelve las tuplas y .tolist lo pasa a una lista, por lo que ya tengo una lista de tuplas\n",
    "\n",
    "# print(val)\n",
    "\n",
    "try:\n",
    "  # Insertar los datos en la base de datos\n",
    "  mycursor.executemany(sql, val)\n",
    "  cnx.commit() # Guardar los cambios y cerrar la conexión\n",
    "  print(mycursor.rowcount, \"registro/s insertado/s\")\n",
    "\n",
    "except mysql.connector.Error as err:\n",
    "  print(err)\n",
    "  print(\"Error Code:\", err.errno)\n",
    "  print(\"SQLSTATE\", err.sqlstate)\n",
    "  print(\"Message\", err.msg)"
   ]
  },
  {
   "cell_type": "markdown",
   "metadata": {},
   "source": [
    "Seguimos con la tabla de los actores. Introducimos los datos del csv."
   ]
  },
  {
   "cell_type": "code",
   "execution_count": 25,
   "metadata": {},
   "outputs": [
    {
     "name": "stdout",
     "output_type": "stream",
     "text": [
      "2175 registro/s insertado/s\n"
     ]
    }
   ],
   "source": [
    "df = pd.read_csv(\"data_actores 1995_2000.csv\")     # Creo un dataframe a partir del .csv\n",
    "\n",
    "# Creamos las variables sql y val, que serán los parámetros que recibirá nuestro cursor para insertar múltiples registros\n",
    "\n",
    "sql_actores = \"INSERT INTO actores (nombre, anyo, roles, peliculas, premios) VALUES (%s, %s, %s, %s, %s)\"\n",
    "val = df.values.tolist()   # Convierto el DataFrame a lista de listas. El .values devuelve las tuplas y .tolist lo pasa a una lista.\n",
    "\n",
    "try:\n",
    "  # Insertar los datos en la base de datos\n",
    "  mycursor.executemany(sql_actores, val)\n",
    "  cnx.commit() # Guardar los cambios \n",
    "  print(mycursor.rowcount, \"registro/s insertado/s\")\n",
    "\n",
    "except mysql.connector.Error as err:\n",
    "  print(err)\n",
    "  print(\"Error Code:\", err.errno)\n",
    "  print(\"SQLSTATE\", err.sqlstate)\n",
    "  print(\"Message\", err.msg)\n",
    "  "
   ]
  },
  {
   "cell_type": "markdown",
   "metadata": {},
   "source": [
    "Interesante por seguir aprendiendo. "
   ]
  },
  {
   "cell_type": "code",
   "execution_count": 26,
   "metadata": {},
   "outputs": [],
   "source": [
    "\n",
    "# # Y finalmente cerrar la conexión.\n",
    "\n",
    "cnx.close() "
   ]
  }
 ],
 "metadata": {
  "kernelspec": {
   "display_name": "Python 3",
   "language": "python",
   "name": "python3"
  },
  "language_info": {
   "codemirror_mode": {
    "name": "ipython",
    "version": 3
   },
   "file_extension": ".py",
   "mimetype": "text/x-python",
   "name": "python",
   "nbconvert_exporter": "python",
   "pygments_lexer": "ipython3",
   "version": "3.12.4"
  }
 },
 "nbformat": 4,
 "nbformat_minor": 2
}
