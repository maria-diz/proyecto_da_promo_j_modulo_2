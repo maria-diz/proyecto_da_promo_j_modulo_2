{
 "cells": [
  {
   "cell_type": "markdown",
   "metadata": {},
   "source": [
    "1.2. Extracción de Detalles de Películas con Selenium\n",
    "Una vez que tengan una lista de películas de la API, el siguiente paso es obtener información más detallada sobre ellas. Utilizarás la herramienta de automatización web Selenium para navegar a sitios web de reseñas de películas, en este caso IMDB, y extraer detalles como calificaciones, actores y directores.\n",
    "\n",
    "Necesitamos la siguiente información:\n",
    "\n",
    "Puntuación de IMDB (en caso de que la tenga).\n",
    "\n",
    "Dirección (director/a o directores/as de cada película).\n",
    "\n",
    "Guionistas (de cada película).\n",
    "\n",
    "Argumento.\n",
    "\n",
    "Nombre de la película.\n",
    "\n",
    "Id de la película.\n",
    "\n",
    "Bonus: También puedes extraer la siguiente información:\n",
    "\n",
    "Duración de la película.\n",
    "\n",
    "Puntuación de Rotten Tomatoes."
   ]
  },
  {
   "cell_type": "code",
   "execution_count": 1,
   "metadata": {},
   "outputs": [],
   "source": [
    "# Importar librerías para tratamiento de datos\n",
    "# -----------------------------------------------------------------------\n",
    "import pandas as pd  # Pandas es una poderosa librería para manipulación y análisis de datos en Python.\n",
    "\n",
    "# Importar librerías para web scraping y manipulación de datos\n",
    "# -----------------------------------------------------------------------\n",
    "from bs4 import BeautifulSoup\n",
    "import requests\n",
    "\n",
    "# Importar librerías para automatización de navegadores web con Selenium\n",
    "# -----------------------------------------------------------------------\n",
    "from selenium import webdriver  # Selenium es una herramienta para automatizar la interacción con navegadores web.\n",
    "from webdriver_manager.chrome import ChromeDriverManager  # ChromeDriverManager gestiona la instalación del controlador de Chrome.\n",
    "from selenium.webdriver.common.keys import Keys  # Keys es útil para simular eventos de teclado en Selenium.\n",
    "from selenium.webdriver.support.ui import Select  # Select se utiliza para interactuar con elementos <select> en páginas web.\n",
    "\n",
    "# Importar librerías para pausar la ejecución\n",
    "# -----------------------------------------------------------------------\n",
    "from time import sleep  # Sleep se utiliza para pausar la ejecución del programa por un número de segundos.\n",
    "\n",
    "# Configuraciones\n",
    "# -----------------------------------------------------------------------\n",
    "pd.set_option('display.max_columns', None) "
   ]
  },
  {
   "cell_type": "markdown",
   "metadata": {},
   "source": [
    "En mi caso, me sale ventana emergente para elegir buscador predetermiando.HE intentando de diferentes formas que le código seleccione opción y siga con la web pero no consigo que ejecute nada."
   ]
  },
  {
   "cell_type": "code",
   "execution_count": 10,
   "metadata": {},
   "outputs": [
    {
     "name": "stdout",
     "output_type": "stream",
     "text": [
      "Maximizando la web.\n",
      "Accediendo a la web.\n",
      "Cookies aceptadas.\n",
      "Accediendo a la película\n",
      "Película encontrada\n"
     ]
    }
   ],
   "source": [
    "#Inicializamos el navegador.\n",
    "driver = webdriver.Chrome()\n",
    "\n",
    "sleep(2)\n",
    "\n",
    "#Maximizamos pantalla.\n",
    "driver.maximize_window()\n",
    "print(\"Maximizando la web.\")\n",
    "\n",
    "sleep(2)\n",
    "\n",
    "#Navegamos a la página web \"https://www.imdb.com/\".\n",
    "driver.get(\"https://www.imdb.com/\")\n",
    "print(\"Accediendo a la web.\")\n",
    "\n",
    "sleep(2)\n",
    "\n",
    "#Aceptamos cookies.\n",
    "driver.find_element(\"css selector\", \"#__next > div > div > div.sc-jrcTuL.bPmWiM > div > button.icb-btn.sc-bcXHqe.sc-dkrFOg.sc-iBYQkv.dcvrLS.ddtuHe.dRCGjd\").click()\n",
    "print(\"Cookies aceptadas.\")\n",
    "\n",
    "sleep(2)\n",
    "\n",
    "#Buscamos película. Creamos input para que el usuario decida la pelñicula que quiere buscar.\n",
    "nombre_pelicula = input(\"Introduce el nombre de la película que deseas buscar: \")\n",
    "\n",
    "buscar_pelicula = driver.find_element(\"css selector\", \"#suggestion-search\")\n",
    "sleep(2)\n",
    "buscar_pelicula.send_keys(nombre_pelicula)\n",
    "#.submit() nos abre listado de resultados. Actúa como un enter.\n",
    "buscar_pelicula.submit()\n",
    "print(\"Accediendo a la película\")\n",
    "\n",
    "\n",
    "sleep(2)\n",
    "\n",
    "#Seleccionamos la película en los resultados.\n",
    "first_result = driver.find_element(\"css selector\", \"#__next > main > div.ipc-page-content-container.ipc-page-content-container--full.sc-d5064298-0.eMaGVc > div.ipc-page-content-container.ipc-page-content-container--center > section > div > div.ipc-page-grid__item.ipc-page-grid__item--span-2 > section:nth-child(4) > div.sc-e8e4ce7-2.gdpdyr > ul > li:nth-child(1)\").click()\n",
    "print(\"Película encontrada\")\n",
    "\n",
    "sleep(2)"
   ]
  },
  {
   "cell_type": "code",
   "execution_count": 11,
   "metadata": {},
   "outputs": [
    {
     "name": "stdout",
     "output_type": "stream",
     "text": [
      "Nombre de la película: Alien: Romulus\n",
      "Puntuación de IMDb: 7,4\n",
      "Dirección: Fede Alvarez\n",
      "Guionistas: Cailee SpaenyDavid JonssonArchie Renaux\n",
      "Argumento: Los jóvenes de un mundo lejano deben enfrentarse a la forma de vida más aterradora del universo.\n",
      "ID de la película: tt18412256\n"
     ]
    }
   ],
   "source": [
    "#Ahora estamos dentro de la info de la película. Vamos a sacar los datos que se nos piden:\n",
    "\n",
    "#Nombre de la película.\n",
    "titulo_pelicula = driver.find_element(\"css selector\", \"h1\").text\n",
    "print(\"Nombre de la película:\", titulo_pelicula)\n",
    "\n",
    "#Puntuación de IMDb.\n",
    "try:\n",
    "    puntuacion_pelicula = driver.find_element(\"css selector\", \"#__next > main > div > section.ipc-page-background.ipc-page-background--base.sc-afa4bed1-0.iMxoKo > section > div:nth-child(5) > section > section > div.sc-491663c0-4.ILcwq > div.sc-491663c0-6.bvzCJs > div.sc-491663c0-11.hFWIYv > div.sc-3a4309f8-0.jJkxPn.sc-1f50b7c-5.dSyyea > div > div:nth-child(1) > a > span > div > div.sc-eb51e184-0.ghvwpw > div.sc-eb51e184-2.fAhXAe > span.sc-eb51e184-1.ljxVSS\").text\n",
    "except:\n",
    "    puntuacion_pelicula = \"No disponible\"\n",
    "print(\"Puntuación de IMDb:\", puntuacion_pelicula)\n",
    "\n",
    "#Info dirección.\n",
    "try:\n",
    "    directores = driver.find_elements(\"css selector\", \"#__next > main > div > section.ipc-page-background.ipc-page-background--base.sc-afa4bed1-0.iMxoKo > section > div:nth-child(5) > section > section > div.sc-491663c0-4.ILcwq > div.sc-491663c0-6.bvzCJs > div.sc-491663c0-11.hFWIYv > div.sc-1f50b7c-2.cpicUu > div > ul > li:nth-child(1) > div > ul > li > a\")\n",
    "    nombres_directores = [director.text.strip() for director in directores]\n",
    "    print(\"Dirección:\", \", \".join(nombres_directores))\n",
    "except:\n",
    "    print(\"No se pudo encontrar la información de los directores.\")\n",
    "\n",
    "#Info guionistas.\n",
    "try:\n",
    "    guionistas = driver.find_elements(\"css selector\", \"#__next > main > div > section.ipc-page-background.ipc-page-background--base.sc-afa4bed1-0.iMxoKo > section > div:nth-child(5) > section > section > div.sc-491663c0-4.ILcwq > div.sc-491663c0-6.bvzCJs > div.sc-491663c0-11.hFWIYv > div.sc-1f50b7c-2.cpicUu > div > ul > li:nth-child(3) > div\")\n",
    "    nombre_guionistas = [guionista.text.strip() for guionista in guionistas]\n",
    "    print(\"Guionistas:\", \", \".join(nombre_guionistas)) #lo uso para separar nombres con comas pero no consigo que funcione\n",
    "except:\n",
    "    print(\"No se pudo encontrar la información de los guionistas.\")\n",
    "\n",
    "#Info argumento.\n",
    "try:\n",
    "    argumento_pelicula = driver.find_element(\"css selector\", \"#__next > main > div > section.ipc-page-background.ipc-page-background--base.sc-afa4bed1-0.iMxoKo > section > div:nth-child(5) > section > section > div.sc-491663c0-4.ILcwq > div.sc-491663c0-6.bvzCJs > div.sc-491663c0-10.tkbDg > section > p > span.sc-2d37a7c7-0.ftDfUj\").text\n",
    "except:\n",
    "    argumento_pelicula = \"No disponible\"\n",
    "print(\"Argumento:\", argumento_pelicula)\n",
    "\n",
    "# ID de la película (sacarlo de la URL)\n",
    "id_pelicula = driver.current_url.split('/')[4]\n",
    "print(\"ID de la película:\", id_pelicula)\n",
    "\n",
    "sleep(4)\n",
    "\n",
    "# Cerrar el navegador\n",
    "driver.quit()"
   ]
  }
 ],
 "metadata": {
  "kernelspec": {
   "display_name": "base",
   "language": "python",
   "name": "python3"
  },
  "language_info": {
   "codemirror_mode": {
    "name": "ipython",
    "version": 3
   },
   "file_extension": ".py",
   "mimetype": "text/x-python",
   "name": "python",
   "nbconvert_exporter": "python",
   "pygments_lexer": "ipython3",
   "version": "3.11.7"
  }
 },
 "nbformat": 4,
 "nbformat_minor": 2
}
