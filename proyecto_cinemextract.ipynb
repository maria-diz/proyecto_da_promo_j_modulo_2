{
 "cells": [
  {
   "cell_type": "markdown",
   "metadata": {},
   "source": [
    "Proyecto: Proyecto CinemExtract: Explorando el Séptimo Arte a través de Datos y Tecnología"
   ]
  },
  {
   "cell_type": "code",
   "execution_count": 2,
   "metadata": {},
   "outputs": [],
   "source": [
    "from bs4 import BeautifulSoup\n",
    "import requests\n",
    "import pandas as pd\n",
    "import re\n",
    "url = \"https://dev.adalab.es/api/cinema/movies?year=1900&genre=Romance\"\n",
    "llamada_1900_romance = requests.get(url)\n",
    "\n",
    "llamada_1900_romance\n",
    "\n",
    "romance_1900 = llamada_1900_romance.json()\n",
    "\n"
   ]
  },
  {
   "cell_type": "code",
   "execution_count": 4,
   "metadata": {},
   "outputs": [
    {
     "data": {
      "text/plain": [
       "dict_keys(['info', 'results'])"
      ]
     },
     "execution_count": 4,
     "metadata": {},
     "output_type": "execute_result"
    }
   ],
   "source": [
    "romance_1900.keys()"
   ]
  },
  {
   "cell_type": "code",
   "execution_count": 25,
   "metadata": {},
   "outputs": [],
   "source": [
    "\n",
    "romance_1900 [\"results\"][0]\n",
    "title = romance_1900 [\"results\"][0][\"title\"]\n",
    "id = romance_1900 [\"results\"][0][\"id\"]\n",
    "year = romance_1900 [\"results\"][0][\"year\"]\n",
    "type = romance_1900 [\"results\"][0][\"type\"]\n"
   ]
  },
  {
   "cell_type": "code",
   "execution_count": 26,
   "metadata": {},
   "outputs": [
    {
     "name": "stdout",
     "output_type": "stream",
     "text": [
      "Old Maids with Young Hearts\n"
     ]
    }
   ],
   "source": [
    "romance_1900 [\"results\"][1]\n",
    "title2 = romance_1900 [\"results\"][1][\"title\"]\n",
    "id2 = romance_1900 [\"results\"][1][\"id\"]\n",
    "year2 = romance_1900 [\"results\"][1][\"year\"]\n",
    "type2 = romance_1900 [\"results\"][1][\"type\"]\n",
    "\n",
    "print(title2)\n"
   ]
  },
  {
   "cell_type": "code",
   "execution_count": 36,
   "metadata": {},
   "outputs": [
    {
     "data": {
      "text/plain": [
       "['The Kiss',\n",
       " 21156,\n",
       " '1900',\n",
       " 'Short',\n",
       " 'Old Maids with Young Hearts',\n",
       " 21157,\n",
       " '1900',\n",
       " 'Short']"
      ]
     },
     "execution_count": 36,
     "metadata": {},
     "output_type": "execute_result"
    }
   ],
   "source": [
    "tupla_romance_1900 = title,id,year,type,title2,id2,year2,type2\n",
    "tuple(tupla_romance_1900)"
   ]
  }
 ],
 "metadata": {
  "kernelspec": {
   "display_name": "base",
   "language": "python",
   "name": "python3"
  },
  "language_info": {
   "codemirror_mode": {
    "name": "ipython",
    "version": 3
   },
   "file_extension": ".py",
   "mimetype": "text/x-python",
   "name": "python",
   "nbconvert_exporter": "python",
   "pygments_lexer": "ipython3",
   "version": "3.11.7"
  }
 },
 "nbformat": 4,
 "nbformat_minor": 2
}
