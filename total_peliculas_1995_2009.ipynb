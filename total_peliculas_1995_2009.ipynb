{
 "cells": [
  {
   "cell_type": "code",
   "execution_count": 2,
   "metadata": {},
   "outputs": [
    {
     "name": "stdout",
     "output_type": "stream",
     "text": [
      "Archivo 'total_peliculas_1995_2009.csv' creado exitosamente.\n"
     ]
    }
   ],
   "source": [
    "import pandas as pd\n",
    "\n",
    "# Cargar los CSVs en DataFrames\n",
    "df_1995_1999 = pd.read_csv('peliculas_1995_1999.csv')\n",
    "df_2000_2004 = pd.read_csv('peliculas_2000_2004.csv')\n",
    "df_2005_2009 = pd.read_csv('peliculas_2005_2009.csv')\n",
    "\n",
    "# Combinar los DataFrames en uno solo\n",
    "df_combined = pd.concat([df_1995_1999, df_2000_2004, df_2005_2009], ignore_index=True)\n",
    "\n",
    "# Guardar el DataFrame consolidado en un nuevo archivo CSV\n",
    "df_combined.to_csv('total_peliculas_1995_2009.csv', index=False)\n",
    "\n",
    "print(\"Archivo 'total_peliculas_1995_2009.csv' creado exitosamente.\")"
   ]
  }
 ],
 "metadata": {
  "kernelspec": {
   "display_name": "base",
   "language": "python",
   "name": "python3"
  },
  "language_info": {
   "codemirror_mode": {
    "name": "ipython",
    "version": 3
   },
   "file_extension": ".py",
   "mimetype": "text/x-python",
   "name": "python",
   "nbconvert_exporter": "python",
   "pygments_lexer": "ipython3",
   "version": "3.11.7"
  }
 },
 "nbformat": 4,
 "nbformat_minor": 2
}
